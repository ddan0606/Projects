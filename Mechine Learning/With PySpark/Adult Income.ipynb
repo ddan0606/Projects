{
 "cells": [
  {
   "cell_type": "markdown",
   "id": "5faf808a-2c30-4fd2-8cfd-e8cc39c564b7",
   "metadata": {
    "tags": []
   },
   "source": [
    "## About The Dataset"
   ]
  },
  {
   "cell_type": "markdown",
   "id": "d446feac-c3b9-4292-92ac-6a93a3e43187",
   "metadata": {
    "tags": []
   },
   "source": [
    "### Dataset Information\n",
    "This dataset has been taken from the famous UCI Machine Learning Repository. The goal of this notebook is to accurately predict whether or not an adult makes more than 50000 US Dollars in a year on the basis of the features given.\n",
    "\n",
    "An individual's annual income is the result of many different factors. Intuitively, it is influenced by the individual's education level, age, gender, occupation, etc."
   ]
  },
  {
   "cell_type": "markdown",
   "id": "adf3d319-6a00-4c2a-9a79-829142ff512e",
   "metadata": {},
   "source": [
    "### Dataset Description\n",
    "+ **Age**: Describes the age of individuals. Continuous.   \n",
    "+ **Workclass**: Private, Self-emp-not-inc, Self-emp-inc, Federal-gov, Local-gov, State-gov, Without-pay, Never-worked.   \n",
    "+ **fnlwgt**: Continuous.  \n",
    "+ **education**: Bachelors, Some-college, 11th, HS-grad, Prof-school, Assoc-acdm, Assoc-voc, 9th, 7th-8th, 12th, Masters, 1st-4th, 10th, Doctorate, 5th-6th, Preschool.  \n",
    "+ **education-num**: Number of years spent in education. Continuous.  \n",
    "+ **marital-status**: Married-civ-spouse, Divorced, Never-married, Separated, Widowed, Married-spouse-absent, Married-AF-spouse.  \n",
    "+ **occupation**: Tech-support, Craft-repair, Other-service, Sales, Exec-managerial, Prof-specialty, Handlers-cleaners, Machine-op-inspct, Adm-clerical, Farming-fishing, Transport-moving, Priv-house-serv, Protective-serv, Armed-Forces.  \n",
    "+ **relationship**: Wife, Own-child, Husband, Not-in-family, Other-relative, Unmarried.\n",
    "+ **race**: White, Asian-Pac-Islander, Amer-Indian-Eskimo, Other, Black.  \n",
    "+ **sex**: Female, Male.  \n",
    "+ **capital-gain**: Continuous.  \n",
    "+ **capital-loss**: Continuous.  \n",
    "+ **hours-per-week**: Continuous.  \n",
    "+ **native-country**: United-States, Cambodia, England, Puerto-Rico, Canada, Germany, Outlying-US(Guam-USVI-etc), India, Japan, Greece, South, China, Cuba, Iran, Honduras, Philippines, Italy, Poland, Jamaica, Vietnam, Mexico, Portugal, Ireland, France, Dominican-Republic, Laos, Ecuador, Taiwan, Haiti, Columbia, Hungary, Guatemala, Nicaragua, Scotland, Thailand, Yugoslavia, El-Salvador, Trinadad&Tobago, Peru, Hong, Holand-Netherlands.  \n",
    "+ **income**: >50K, <=50K."
   ]
  },
  {
   "cell_type": "markdown",
   "id": "2ec3456a-de05-40ed-8666-ffe5001aaefd",
   "metadata": {},
   "source": [
    "### Project Goal\n",
    "`Predict income level based on individual information.`"
   ]
  },
  {
   "cell_type": "markdown",
   "id": "d0bfdd95-b4a2-4f1d-83ce-e3a6ada5d058",
   "metadata": {},
   "source": [
    "### Dataset Source\n",
    "https://github.com/ddan0606/Projects/tree/main/Datasets"
   ]
  },
  {
   "cell_type": "markdown",
   "id": "6a5fab08-2e07-42df-b9ee-4d87827539f4",
   "metadata": {},
   "source": [
    "## Creating a SparkSession Object"
   ]
  },
  {
   "cell_type": "code",
   "execution_count": 66,
   "id": "b54f0922",
   "metadata": {
    "scrolled": true
   },
   "outputs": [
    {
     "name": "stdout",
     "output_type": "stream",
     "text": [
      "You are working with 1 core(s)\n"
     ]
    },
    {
     "data": {
      "text/html": [
       "\n",
       "            <div>\n",
       "                <p><b>SparkSession - in-memory</b></p>\n",
       "                \n",
       "        <div>\n",
       "            <p><b>SparkContext</b></p>\n",
       "\n",
       "            <p><a href=\"http://MSI:4040\">Spark UI</a></p>\n",
       "\n",
       "            <dl>\n",
       "              <dt>Version</dt>\n",
       "                <dd><code>v3.3.1</code></dd>\n",
       "              <dt>Master</dt>\n",
       "                <dd><code>local[*]</code></dd>\n",
       "              <dt>AppName</dt>\n",
       "                <dd><code>Project</code></dd>\n",
       "            </dl>\n",
       "        </div>\n",
       "        \n",
       "            </div>\n",
       "        "
      ],
      "text/plain": [
       "<pyspark.sql.session.SparkSession at 0x203350b5c70>"
      ]
     },
     "execution_count": 66,
     "metadata": {},
     "output_type": "execute_result"
    }
   ],
   "source": [
    "import findspark\n",
    "findspark.init()\n",
    "\n",
    "import pyspark \n",
    "from pyspark.sql import SparkSession\n",
    "# May take awhile locally\n",
    "spark = SparkSession.builder.appName(\"Project\").getOrCreate()\n",
    "\n",
    "cores = spark._jsc.sc().getExecutorMemoryStatus().keySet().size()\n",
    "print(\"You are working with\", cores, \"core(s)\")\n",
    "spark"
   ]
  },
  {
   "cell_type": "markdown",
   "id": "3be74297-230f-42ff-8a5f-85e1995180c9",
   "metadata": {},
   "source": [
    "## Import libraries"
   ]
  },
  {
   "cell_type": "code",
   "execution_count": 5,
   "id": "14b24ca0-7c30-4fbf-a0a5-094afaa7180a",
   "metadata": {},
   "outputs": [],
   "source": [
    "import pandas as pd"
   ]
  },
  {
   "cell_type": "markdown",
   "id": "a2247ff9",
   "metadata": {
    "tags": []
   },
   "source": [
    "## Importing the Data"
   ]
  },
  {
   "cell_type": "code",
   "execution_count": 2,
   "id": "e6d9da0d",
   "metadata": {
    "scrolled": true,
    "tags": []
   },
   "outputs": [],
   "source": [
    "url = 'https://raw.githubusercontent.com/ddan0606/Projects/main/Datasets/adult.csv'"
   ]
  },
  {
   "cell_type": "code",
   "execution_count": 4,
   "id": "95bd8e71-a6df-4a12-809c-a12d40be613a",
   "metadata": {},
   "outputs": [
    {
     "data": {
      "text/html": [
       "<div>\n",
       "<style scoped>\n",
       "    .dataframe tbody tr th:only-of-type {\n",
       "        vertical-align: middle;\n",
       "    }\n",
       "\n",
       "    .dataframe tbody tr th {\n",
       "        vertical-align: top;\n",
       "    }\n",
       "\n",
       "    .dataframe thead th {\n",
       "        text-align: right;\n",
       "    }\n",
       "</style>\n",
       "<table border=\"1\" class=\"dataframe\">\n",
       "  <thead>\n",
       "    <tr style=\"text-align: right;\">\n",
       "      <th></th>\n",
       "      <th>workclass</th>\n",
       "      <th>fnlwgt</th>\n",
       "      <th>education</th>\n",
       "      <th>educational-num</th>\n",
       "      <th>marital-status</th>\n",
       "      <th>occupation</th>\n",
       "      <th>relationship</th>\n",
       "      <th>race</th>\n",
       "      <th>gender</th>\n",
       "      <th>capital-gain</th>\n",
       "      <th>capital-loss</th>\n",
       "      <th>hours-per-week</th>\n",
       "      <th>native-country</th>\n",
       "      <th>income</th>\n",
       "    </tr>\n",
       "    <tr>\n",
       "      <th>age</th>\n",
       "      <th></th>\n",
       "      <th></th>\n",
       "      <th></th>\n",
       "      <th></th>\n",
       "      <th></th>\n",
       "      <th></th>\n",
       "      <th></th>\n",
       "      <th></th>\n",
       "      <th></th>\n",
       "      <th></th>\n",
       "      <th></th>\n",
       "      <th></th>\n",
       "      <th></th>\n",
       "      <th></th>\n",
       "    </tr>\n",
       "  </thead>\n",
       "  <tbody>\n",
       "    <tr>\n",
       "      <th>25</th>\n",
       "      <td>Private</td>\n",
       "      <td>226802</td>\n",
       "      <td>11th</td>\n",
       "      <td>7</td>\n",
       "      <td>Never-married</td>\n",
       "      <td>Machine-op-inspct</td>\n",
       "      <td>Own-child</td>\n",
       "      <td>Black</td>\n",
       "      <td>Male</td>\n",
       "      <td>0</td>\n",
       "      <td>0</td>\n",
       "      <td>40</td>\n",
       "      <td>United-States</td>\n",
       "      <td>&lt;=50K</td>\n",
       "    </tr>\n",
       "    <tr>\n",
       "      <th>38</th>\n",
       "      <td>Private</td>\n",
       "      <td>89814</td>\n",
       "      <td>HS-grad</td>\n",
       "      <td>9</td>\n",
       "      <td>Married-civ-spouse</td>\n",
       "      <td>Farming-fishing</td>\n",
       "      <td>Husband</td>\n",
       "      <td>White</td>\n",
       "      <td>Male</td>\n",
       "      <td>0</td>\n",
       "      <td>0</td>\n",
       "      <td>50</td>\n",
       "      <td>United-States</td>\n",
       "      <td>&lt;=50K</td>\n",
       "    </tr>\n",
       "    <tr>\n",
       "      <th>28</th>\n",
       "      <td>Local-gov</td>\n",
       "      <td>336951</td>\n",
       "      <td>Assoc-acdm</td>\n",
       "      <td>12</td>\n",
       "      <td>Married-civ-spouse</td>\n",
       "      <td>Protective-serv</td>\n",
       "      <td>Husband</td>\n",
       "      <td>White</td>\n",
       "      <td>Male</td>\n",
       "      <td>0</td>\n",
       "      <td>0</td>\n",
       "      <td>40</td>\n",
       "      <td>United-States</td>\n",
       "      <td>&gt;50K</td>\n",
       "    </tr>\n",
       "    <tr>\n",
       "      <th>44</th>\n",
       "      <td>Private</td>\n",
       "      <td>160323</td>\n",
       "      <td>Some-college</td>\n",
       "      <td>10</td>\n",
       "      <td>Married-civ-spouse</td>\n",
       "      <td>Machine-op-inspct</td>\n",
       "      <td>Husband</td>\n",
       "      <td>Black</td>\n",
       "      <td>Male</td>\n",
       "      <td>7688</td>\n",
       "      <td>0</td>\n",
       "      <td>40</td>\n",
       "      <td>United-States</td>\n",
       "      <td>&gt;50K</td>\n",
       "    </tr>\n",
       "    <tr>\n",
       "      <th>18</th>\n",
       "      <td>?</td>\n",
       "      <td>103497</td>\n",
       "      <td>Some-college</td>\n",
       "      <td>10</td>\n",
       "      <td>Never-married</td>\n",
       "      <td>?</td>\n",
       "      <td>Own-child</td>\n",
       "      <td>White</td>\n",
       "      <td>Female</td>\n",
       "      <td>0</td>\n",
       "      <td>0</td>\n",
       "      <td>30</td>\n",
       "      <td>United-States</td>\n",
       "      <td>&lt;=50K</td>\n",
       "    </tr>\n",
       "  </tbody>\n",
       "</table>\n",
       "</div>"
      ],
      "text/plain": [
       "     workclass  fnlwgt     education  educational-num      marital-status  \\\n",
       "age                                                                         \n",
       "25     Private  226802          11th                7       Never-married   \n",
       "38     Private   89814       HS-grad                9  Married-civ-spouse   \n",
       "28   Local-gov  336951    Assoc-acdm               12  Married-civ-spouse   \n",
       "44     Private  160323  Some-college               10  Married-civ-spouse   \n",
       "18           ?  103497  Some-college               10       Never-married   \n",
       "\n",
       "            occupation relationship   race  gender  capital-gain  \\\n",
       "age                                                                \n",
       "25   Machine-op-inspct    Own-child  Black    Male             0   \n",
       "38     Farming-fishing      Husband  White    Male             0   \n",
       "28     Protective-serv      Husband  White    Male             0   \n",
       "44   Machine-op-inspct      Husband  Black    Male          7688   \n",
       "18                   ?    Own-child  White  Female             0   \n",
       "\n",
       "     capital-loss  hours-per-week native-country income  \n",
       "age                                                      \n",
       "25              0              40  United-States  <=50K  \n",
       "38              0              50  United-States  <=50K  \n",
       "28              0              40  United-States   >50K  \n",
       "44              0              40  United-States   >50K  \n",
       "18              0              30  United-States  <=50K  "
      ]
     },
     "execution_count": 4,
     "metadata": {},
     "output_type": "execute_result"
    }
   ],
   "source": [
    "df = pd.read_csv(url, index_col = 0)\n",
    "df.head(5)"
   ]
  },
  {
   "cell_type": "markdown",
   "id": "05775060-cfde-4b05-8b31-ac399d4aa62e",
   "metadata": {},
   "source": [
    "## Explore the Dataframe"
   ]
  },
  {
   "cell_type": "code",
   "execution_count": 75,
   "id": "7d5940fc",
   "metadata": {},
   "outputs": [
    {
     "data": {
      "text/plain": [
       "48842"
      ]
     },
     "execution_count": 75,
     "metadata": {},
     "output_type": "execute_result"
    }
   ],
   "source": [
    "df.count()"
   ]
  },
  {
   "cell_type": "code",
   "execution_count": 76,
   "id": "a84d1912",
   "metadata": {},
   "outputs": [
    {
     "data": {
      "text/plain": [
       "['age',\n",
       " 'workclass',\n",
       " 'fnlwgt',\n",
       " 'education',\n",
       " 'educational-num',\n",
       " 'marital-status',\n",
       " 'occupation',\n",
       " 'relationship',\n",
       " 'race',\n",
       " 'gender',\n",
       " 'capital-gain',\n",
       " 'capital-loss',\n",
       " 'hours-per-week',\n",
       " 'native-country',\n",
       " 'income']"
      ]
     },
     "execution_count": 76,
     "metadata": {},
     "output_type": "execute_result"
    }
   ],
   "source": [
    "df.columns"
   ]
  },
  {
   "cell_type": "code",
   "execution_count": 6,
   "id": "da7fc81c",
   "metadata": {},
   "outputs": [
    {
     "data": {
      "text/plain": [
       "15"
      ]
     },
     "execution_count": 6,
     "metadata": {},
     "output_type": "execute_result"
    }
   ],
   "source": [
    "len(df.columns)"
   ]
  },
  {
   "cell_type": "code",
   "execution_count": 7,
   "id": "6b8ce432",
   "metadata": {},
   "outputs": [
    {
     "name": "stdout",
     "output_type": "stream",
     "text": [
      "root\n",
      " |-- age: integer (nullable = true)\n",
      " |-- workclass: string (nullable = true)\n",
      " |-- fnlwgt: integer (nullable = true)\n",
      " |-- education: string (nullable = true)\n",
      " |-- educational-num: integer (nullable = true)\n",
      " |-- marital-status: string (nullable = true)\n",
      " |-- occupation: string (nullable = true)\n",
      " |-- relationship: string (nullable = true)\n",
      " |-- race: string (nullable = true)\n",
      " |-- gender: string (nullable = true)\n",
      " |-- capital-gain: integer (nullable = true)\n",
      " |-- capital-loss: integer (nullable = true)\n",
      " |-- hours-per-week: integer (nullable = true)\n",
      " |-- native-country: string (nullable = true)\n",
      " |-- income: string (nullable = true)\n",
      "\n"
     ]
    }
   ],
   "source": [
    "df.printSchema()"
   ]
  },
  {
   "cell_type": "code",
   "execution_count": 8,
   "id": "47635cbf",
   "metadata": {},
   "outputs": [
    {
     "data": {
      "text/html": [
       "<div>\n",
       "<style scoped>\n",
       "    .dataframe tbody tr th:only-of-type {\n",
       "        vertical-align: middle;\n",
       "    }\n",
       "\n",
       "    .dataframe tbody tr th {\n",
       "        vertical-align: top;\n",
       "    }\n",
       "\n",
       "    .dataframe thead th {\n",
       "        text-align: right;\n",
       "    }\n",
       "</style>\n",
       "<table border=\"1\" class=\"dataframe\">\n",
       "  <thead>\n",
       "    <tr style=\"text-align: right;\">\n",
       "      <th></th>\n",
       "      <th>age</th>\n",
       "      <th>workclass</th>\n",
       "      <th>fnlwgt</th>\n",
       "      <th>education</th>\n",
       "      <th>educational-num</th>\n",
       "      <th>marital-status</th>\n",
       "      <th>occupation</th>\n",
       "      <th>relationship</th>\n",
       "      <th>race</th>\n",
       "      <th>gender</th>\n",
       "      <th>capital-gain</th>\n",
       "      <th>capital-loss</th>\n",
       "      <th>hours-per-week</th>\n",
       "      <th>native-country</th>\n",
       "      <th>income</th>\n",
       "    </tr>\n",
       "  </thead>\n",
       "  <tbody>\n",
       "    <tr>\n",
       "      <th>0</th>\n",
       "      <td>25</td>\n",
       "      <td>Private</td>\n",
       "      <td>226802</td>\n",
       "      <td>11th</td>\n",
       "      <td>7</td>\n",
       "      <td>Never-married</td>\n",
       "      <td>Machine-op-inspct</td>\n",
       "      <td>Own-child</td>\n",
       "      <td>Black</td>\n",
       "      <td>Male</td>\n",
       "      <td>0</td>\n",
       "      <td>0</td>\n",
       "      <td>40</td>\n",
       "      <td>United-States</td>\n",
       "      <td>&lt;=50K.</td>\n",
       "    </tr>\n",
       "    <tr>\n",
       "      <th>1</th>\n",
       "      <td>38</td>\n",
       "      <td>Private</td>\n",
       "      <td>89814</td>\n",
       "      <td>HS-grad</td>\n",
       "      <td>9</td>\n",
       "      <td>Married-civ-spouse</td>\n",
       "      <td>Farming-fishing</td>\n",
       "      <td>Husband</td>\n",
       "      <td>White</td>\n",
       "      <td>Male</td>\n",
       "      <td>0</td>\n",
       "      <td>0</td>\n",
       "      <td>50</td>\n",
       "      <td>United-States</td>\n",
       "      <td>&lt;=50K.</td>\n",
       "    </tr>\n",
       "    <tr>\n",
       "      <th>2</th>\n",
       "      <td>28</td>\n",
       "      <td>Local-gov</td>\n",
       "      <td>336951</td>\n",
       "      <td>Assoc-acdm</td>\n",
       "      <td>12</td>\n",
       "      <td>Married-civ-spouse</td>\n",
       "      <td>Protective-serv</td>\n",
       "      <td>Husband</td>\n",
       "      <td>White</td>\n",
       "      <td>Male</td>\n",
       "      <td>0</td>\n",
       "      <td>0</td>\n",
       "      <td>40</td>\n",
       "      <td>United-States</td>\n",
       "      <td>&gt;50K.</td>\n",
       "    </tr>\n",
       "    <tr>\n",
       "      <th>3</th>\n",
       "      <td>44</td>\n",
       "      <td>Private</td>\n",
       "      <td>160323</td>\n",
       "      <td>Some-college</td>\n",
       "      <td>10</td>\n",
       "      <td>Married-civ-spouse</td>\n",
       "      <td>Machine-op-inspct</td>\n",
       "      <td>Husband</td>\n",
       "      <td>Black</td>\n",
       "      <td>Male</td>\n",
       "      <td>7688</td>\n",
       "      <td>0</td>\n",
       "      <td>40</td>\n",
       "      <td>United-States</td>\n",
       "      <td>&gt;50K.</td>\n",
       "    </tr>\n",
       "    <tr>\n",
       "      <th>4</th>\n",
       "      <td>18</td>\n",
       "      <td>?</td>\n",
       "      <td>103497</td>\n",
       "      <td>Some-college</td>\n",
       "      <td>10</td>\n",
       "      <td>Never-married</td>\n",
       "      <td>?</td>\n",
       "      <td>Own-child</td>\n",
       "      <td>White</td>\n",
       "      <td>Female</td>\n",
       "      <td>0</td>\n",
       "      <td>0</td>\n",
       "      <td>30</td>\n",
       "      <td>United-States</td>\n",
       "      <td>&lt;=50K.</td>\n",
       "    </tr>\n",
       "  </tbody>\n",
       "</table>\n",
       "</div>"
      ],
      "text/plain": [
       "   age   workclass  fnlwgt      education  educational-num  \\\n",
       "0   25     Private  226802           11th                7   \n",
       "1   38     Private   89814        HS-grad                9   \n",
       "2   28   Local-gov  336951     Assoc-acdm               12   \n",
       "3   44     Private  160323   Some-college               10   \n",
       "4   18           ?  103497   Some-college               10   \n",
       "\n",
       "        marital-status          occupation relationship    race   gender  \\\n",
       "0        Never-married   Machine-op-inspct    Own-child   Black     Male   \n",
       "1   Married-civ-spouse     Farming-fishing      Husband   White     Male   \n",
       "2   Married-civ-spouse     Protective-serv      Husband   White     Male   \n",
       "3   Married-civ-spouse   Machine-op-inspct      Husband   Black     Male   \n",
       "4        Never-married                   ?    Own-child   White   Female   \n",
       "\n",
       "   capital-gain  capital-loss  hours-per-week  native-country   income  \n",
       "0             0             0              40   United-States   <=50K.  \n",
       "1             0             0              50   United-States   <=50K.  \n",
       "2             0             0              40   United-States    >50K.  \n",
       "3          7688             0              40   United-States    >50K.  \n",
       "4             0             0              30   United-States   <=50K.  "
      ]
     },
     "execution_count": 8,
     "metadata": {},
     "output_type": "execute_result"
    }
   ],
   "source": [
    "df.limit(5).toPandas()"
   ]
  },
  {
   "cell_type": "code",
   "execution_count": 9,
   "id": "c894a530",
   "metadata": {
    "scrolled": true,
    "tags": []
   },
   "outputs": [
    {
     "data": {
      "text/html": [
       "<div>\n",
       "<style scoped>\n",
       "    .dataframe tbody tr th:only-of-type {\n",
       "        vertical-align: middle;\n",
       "    }\n",
       "\n",
       "    .dataframe tbody tr th {\n",
       "        vertical-align: top;\n",
       "    }\n",
       "\n",
       "    .dataframe thead th {\n",
       "        text-align: right;\n",
       "    }\n",
       "</style>\n",
       "<table border=\"1\" class=\"dataframe\">\n",
       "  <thead>\n",
       "    <tr style=\"text-align: right;\">\n",
       "      <th></th>\n",
       "      <th>summary</th>\n",
       "      <th>age</th>\n",
       "      <th>workclass</th>\n",
       "      <th>fnlwgt</th>\n",
       "      <th>education</th>\n",
       "      <th>educational-num</th>\n",
       "      <th>marital-status</th>\n",
       "      <th>occupation</th>\n",
       "      <th>relationship</th>\n",
       "      <th>race</th>\n",
       "      <th>gender</th>\n",
       "      <th>capital-gain</th>\n",
       "      <th>capital-loss</th>\n",
       "      <th>hours-per-week</th>\n",
       "      <th>native-country</th>\n",
       "      <th>income</th>\n",
       "    </tr>\n",
       "  </thead>\n",
       "  <tbody>\n",
       "    <tr>\n",
       "      <th>0</th>\n",
       "      <td>count</td>\n",
       "      <td>48842</td>\n",
       "      <td>48842</td>\n",
       "      <td>48842</td>\n",
       "      <td>48842</td>\n",
       "      <td>48842</td>\n",
       "      <td>48842</td>\n",
       "      <td>48842</td>\n",
       "      <td>48842</td>\n",
       "      <td>48842</td>\n",
       "      <td>48842</td>\n",
       "      <td>48842</td>\n",
       "      <td>48842</td>\n",
       "      <td>48842</td>\n",
       "      <td>48842</td>\n",
       "      <td>48842</td>\n",
       "    </tr>\n",
       "    <tr>\n",
       "      <th>1</th>\n",
       "      <td>mean</td>\n",
       "      <td>38.64358543876172</td>\n",
       "      <td>None</td>\n",
       "      <td>189664.13459727284</td>\n",
       "      <td>None</td>\n",
       "      <td>10.078088530363212</td>\n",
       "      <td>None</td>\n",
       "      <td>None</td>\n",
       "      <td>None</td>\n",
       "      <td>None</td>\n",
       "      <td>None</td>\n",
       "      <td>1079.0676262233324</td>\n",
       "      <td>87.50231358257237</td>\n",
       "      <td>40.422382375824085</td>\n",
       "      <td>None</td>\n",
       "      <td>None</td>\n",
       "    </tr>\n",
       "    <tr>\n",
       "      <th>2</th>\n",
       "      <td>stddev</td>\n",
       "      <td>13.710509934443563</td>\n",
       "      <td>None</td>\n",
       "      <td>105604.02542315733</td>\n",
       "      <td>None</td>\n",
       "      <td>2.570972755592263</td>\n",
       "      <td>None</td>\n",
       "      <td>None</td>\n",
       "      <td>None</td>\n",
       "      <td>None</td>\n",
       "      <td>None</td>\n",
       "      <td>7452.019057655401</td>\n",
       "      <td>403.0045521243599</td>\n",
       "      <td>12.3914440242523</td>\n",
       "      <td>None</td>\n",
       "      <td>None</td>\n",
       "    </tr>\n",
       "    <tr>\n",
       "      <th>3</th>\n",
       "      <td>min</td>\n",
       "      <td>17</td>\n",
       "      <td>?</td>\n",
       "      <td>12285</td>\n",
       "      <td>10th</td>\n",
       "      <td>1</td>\n",
       "      <td>Divorced</td>\n",
       "      <td>?</td>\n",
       "      <td>Husband</td>\n",
       "      <td>Amer-Indian-Eskimo</td>\n",
       "      <td>Female</td>\n",
       "      <td>0</td>\n",
       "      <td>0</td>\n",
       "      <td>1</td>\n",
       "      <td>?</td>\n",
       "      <td>&lt;=50K</td>\n",
       "    </tr>\n",
       "    <tr>\n",
       "      <th>4</th>\n",
       "      <td>max</td>\n",
       "      <td>90</td>\n",
       "      <td>Without-pay</td>\n",
       "      <td>1490400</td>\n",
       "      <td>Some-college</td>\n",
       "      <td>16</td>\n",
       "      <td>Widowed</td>\n",
       "      <td>Transport-moving</td>\n",
       "      <td>Wife</td>\n",
       "      <td>White</td>\n",
       "      <td>Male</td>\n",
       "      <td>99999</td>\n",
       "      <td>4356</td>\n",
       "      <td>99</td>\n",
       "      <td>Yugoslavia</td>\n",
       "      <td>&gt;50K.</td>\n",
       "    </tr>\n",
       "  </tbody>\n",
       "</table>\n",
       "</div>"
      ],
      "text/plain": [
       "  summary                 age     workclass              fnlwgt  \\\n",
       "0   count               48842         48842               48842   \n",
       "1    mean   38.64358543876172          None  189664.13459727284   \n",
       "2  stddev  13.710509934443563          None  105604.02542315733   \n",
       "3     min                  17             ?               12285   \n",
       "4     max                  90   Without-pay             1490400   \n",
       "\n",
       "       education     educational-num marital-status         occupation  \\\n",
       "0          48842               48842          48842              48842   \n",
       "1           None  10.078088530363212           None               None   \n",
       "2           None   2.570972755592263           None               None   \n",
       "3           10th                   1       Divorced                  ?   \n",
       "4   Some-college                  16        Widowed   Transport-moving   \n",
       "\n",
       "  relationship                 race   gender        capital-gain  \\\n",
       "0        48842                48842    48842               48842   \n",
       "1         None                 None     None  1079.0676262233324   \n",
       "2         None                 None     None   7452.019057655401   \n",
       "3      Husband   Amer-Indian-Eskimo   Female                   0   \n",
       "4         Wife                White     Male               99999   \n",
       "\n",
       "        capital-loss      hours-per-week native-country  income  \n",
       "0              48842               48842          48842   48842  \n",
       "1  87.50231358257237  40.422382375824085           None    None  \n",
       "2  403.0045521243599    12.3914440242523           None    None  \n",
       "3                  0                   1              ?   <=50K  \n",
       "4               4356                  99     Yugoslavia   >50K.  "
      ]
     },
     "execution_count": 9,
     "metadata": {},
     "output_type": "execute_result"
    }
   ],
   "source": [
    "df.describe().toPandas()"
   ]
  },
  {
   "cell_type": "markdown",
   "id": "f3a26cfa-922a-47f8-99fa-1f27690b6c0f",
   "metadata": {},
   "source": [
    "## Data Processing"
   ]
  },
  {
   "cell_type": "markdown",
   "id": "38db5fdf-aaf5-4c33-a3a2-423f249f0594",
   "metadata": {
    "tags": []
   },
   "source": [
    "### Rename Data"
   ]
  },
  {
   "cell_type": "code",
   "execution_count": 10,
   "id": "d50264f9-5f79-491f-aa36-5d590c28253f",
   "metadata": {},
   "outputs": [
    {
     "data": {
      "text/html": [
       "<div>\n",
       "<style scoped>\n",
       "    .dataframe tbody tr th:only-of-type {\n",
       "        vertical-align: middle;\n",
       "    }\n",
       "\n",
       "    .dataframe tbody tr th {\n",
       "        vertical-align: top;\n",
       "    }\n",
       "\n",
       "    .dataframe thead th {\n",
       "        text-align: right;\n",
       "    }\n",
       "</style>\n",
       "<table border=\"1\" class=\"dataframe\">\n",
       "  <thead>\n",
       "    <tr style=\"text-align: right;\">\n",
       "      <th></th>\n",
       "      <th>age</th>\n",
       "      <th>workclass</th>\n",
       "      <th>fnlwgt</th>\n",
       "      <th>education</th>\n",
       "      <th>educational_num</th>\n",
       "      <th>marital_status</th>\n",
       "      <th>occupation</th>\n",
       "      <th>relationship</th>\n",
       "      <th>race</th>\n",
       "      <th>gender</th>\n",
       "      <th>capital_gain</th>\n",
       "      <th>capital_loss</th>\n",
       "      <th>hours_per_week</th>\n",
       "      <th>native_country</th>\n",
       "      <th>income</th>\n",
       "    </tr>\n",
       "  </thead>\n",
       "  <tbody>\n",
       "    <tr>\n",
       "      <th>0</th>\n",
       "      <td>25</td>\n",
       "      <td>Private</td>\n",
       "      <td>226802</td>\n",
       "      <td>11th</td>\n",
       "      <td>7</td>\n",
       "      <td>Never-married</td>\n",
       "      <td>Machine-op-inspct</td>\n",
       "      <td>Own-child</td>\n",
       "      <td>Black</td>\n",
       "      <td>Male</td>\n",
       "      <td>0</td>\n",
       "      <td>0</td>\n",
       "      <td>40</td>\n",
       "      <td>United-States</td>\n",
       "      <td>&lt;=50K.</td>\n",
       "    </tr>\n",
       "    <tr>\n",
       "      <th>1</th>\n",
       "      <td>38</td>\n",
       "      <td>Private</td>\n",
       "      <td>89814</td>\n",
       "      <td>HS-grad</td>\n",
       "      <td>9</td>\n",
       "      <td>Married-civ-spouse</td>\n",
       "      <td>Farming-fishing</td>\n",
       "      <td>Husband</td>\n",
       "      <td>White</td>\n",
       "      <td>Male</td>\n",
       "      <td>0</td>\n",
       "      <td>0</td>\n",
       "      <td>50</td>\n",
       "      <td>United-States</td>\n",
       "      <td>&lt;=50K.</td>\n",
       "    </tr>\n",
       "    <tr>\n",
       "      <th>2</th>\n",
       "      <td>28</td>\n",
       "      <td>Local-gov</td>\n",
       "      <td>336951</td>\n",
       "      <td>Assoc-acdm</td>\n",
       "      <td>12</td>\n",
       "      <td>Married-civ-spouse</td>\n",
       "      <td>Protective-serv</td>\n",
       "      <td>Husband</td>\n",
       "      <td>White</td>\n",
       "      <td>Male</td>\n",
       "      <td>0</td>\n",
       "      <td>0</td>\n",
       "      <td>40</td>\n",
       "      <td>United-States</td>\n",
       "      <td>&gt;50K.</td>\n",
       "    </tr>\n",
       "    <tr>\n",
       "      <th>3</th>\n",
       "      <td>44</td>\n",
       "      <td>Private</td>\n",
       "      <td>160323</td>\n",
       "      <td>Some-college</td>\n",
       "      <td>10</td>\n",
       "      <td>Married-civ-spouse</td>\n",
       "      <td>Machine-op-inspct</td>\n",
       "      <td>Husband</td>\n",
       "      <td>Black</td>\n",
       "      <td>Male</td>\n",
       "      <td>7688</td>\n",
       "      <td>0</td>\n",
       "      <td>40</td>\n",
       "      <td>United-States</td>\n",
       "      <td>&gt;50K.</td>\n",
       "    </tr>\n",
       "    <tr>\n",
       "      <th>4</th>\n",
       "      <td>18</td>\n",
       "      <td>?</td>\n",
       "      <td>103497</td>\n",
       "      <td>Some-college</td>\n",
       "      <td>10</td>\n",
       "      <td>Never-married</td>\n",
       "      <td>?</td>\n",
       "      <td>Own-child</td>\n",
       "      <td>White</td>\n",
       "      <td>Female</td>\n",
       "      <td>0</td>\n",
       "      <td>0</td>\n",
       "      <td>30</td>\n",
       "      <td>United-States</td>\n",
       "      <td>&lt;=50K.</td>\n",
       "    </tr>\n",
       "  </tbody>\n",
       "</table>\n",
       "</div>"
      ],
      "text/plain": [
       "   age   workclass  fnlwgt      education  educational_num  \\\n",
       "0   25     Private  226802           11th                7   \n",
       "1   38     Private   89814        HS-grad                9   \n",
       "2   28   Local-gov  336951     Assoc-acdm               12   \n",
       "3   44     Private  160323   Some-college               10   \n",
       "4   18           ?  103497   Some-college               10   \n",
       "\n",
       "        marital_status          occupation relationship    race   gender  \\\n",
       "0        Never-married   Machine-op-inspct    Own-child   Black     Male   \n",
       "1   Married-civ-spouse     Farming-fishing      Husband   White     Male   \n",
       "2   Married-civ-spouse     Protective-serv      Husband   White     Male   \n",
       "3   Married-civ-spouse   Machine-op-inspct      Husband   Black     Male   \n",
       "4        Never-married                   ?    Own-child   White   Female   \n",
       "\n",
       "   capital_gain  capital_loss  hours_per_week  native_country   income  \n",
       "0             0             0              40   United-States   <=50K.  \n",
       "1             0             0              50   United-States   <=50K.  \n",
       "2             0             0              40   United-States    >50K.  \n",
       "3          7688             0              40   United-States    >50K.  \n",
       "4             0             0              30   United-States   <=50K.  "
      ]
     },
     "execution_count": 10,
     "metadata": {},
     "output_type": "execute_result"
    }
   ],
   "source": [
    "df = df.withColumnRenamed(\"educational-num\", \"educational_num\") \\\n",
    "       .withColumnRenamed(\"marital-status\", \"marital_status\")   \\\n",
    "       .withColumnRenamed(\"capital-gain\", \"capital_gain\")       \\\n",
    "       .withColumnRenamed(\"capital-loss\", \"capital_loss\")       \\\n",
    "       .withColumnRenamed(\"hours-per-week\", \"hours_per_week\")   \\\n",
    "       .withColumnRenamed(\"native-country\", \"native_country\") \n",
    "\n",
    "df.limit(5).toPandas()"
   ]
  },
  {
   "cell_type": "markdown",
   "id": "b6f6dc32-5dba-478b-9d7f-1f518a7aae47",
   "metadata": {},
   "source": [
    "### Distinct Values in Column"
   ]
  },
  {
   "cell_type": "code",
   "execution_count": 11,
   "id": "3def4615-8c73-4af1-843e-e61916a68a2e",
   "metadata": {
    "tags": []
   },
   "outputs": [
    {
     "data": {
      "text/html": [
       "<div>\n",
       "<style scoped>\n",
       "    .dataframe tbody tr th:only-of-type {\n",
       "        vertical-align: middle;\n",
       "    }\n",
       "\n",
       "    .dataframe tbody tr th {\n",
       "        vertical-align: top;\n",
       "    }\n",
       "\n",
       "    .dataframe thead th {\n",
       "        text-align: right;\n",
       "    }\n",
       "</style>\n",
       "<table border=\"1\" class=\"dataframe\">\n",
       "  <thead>\n",
       "    <tr style=\"text-align: right;\">\n",
       "      <th></th>\n",
       "      <th>income</th>\n",
       "    </tr>\n",
       "  </thead>\n",
       "  <tbody>\n",
       "    <tr>\n",
       "      <th>0</th>\n",
       "      <td>&gt;50K.</td>\n",
       "    </tr>\n",
       "    <tr>\n",
       "      <th>1</th>\n",
       "      <td>&lt;=50K.</td>\n",
       "    </tr>\n",
       "    <tr>\n",
       "      <th>2</th>\n",
       "      <td>&gt;50K</td>\n",
       "    </tr>\n",
       "    <tr>\n",
       "      <th>3</th>\n",
       "      <td>&lt;=50K</td>\n",
       "    </tr>\n",
       "  </tbody>\n",
       "</table>\n",
       "</div>"
      ],
      "text/plain": [
       "    income\n",
       "0    >50K.\n",
       "1   <=50K.\n",
       "2     >50K\n",
       "3    <=50K"
      ]
     },
     "execution_count": 11,
     "metadata": {},
     "output_type": "execute_result"
    }
   ],
   "source": [
    "df.select('income').distinct().limit(5).toPandas()"
   ]
  },
  {
   "cell_type": "markdown",
   "id": "e79ce6c8-72ef-4e99-ad93-b3f2d009c9a2",
   "metadata": {},
   "source": [
    "### Replace String Column Values"
   ]
  },
  {
   "cell_type": "code",
   "execution_count": 12,
   "id": "050ea2c2-30ba-4018-a138-a2df87279946",
   "metadata": {},
   "outputs": [],
   "source": [
    "from pyspark.sql.functions import regexp_replace"
   ]
  },
  {
   "cell_type": "code",
   "execution_count": 13,
   "id": "c9ce0263-e154-410c-a6bb-ac6f9aeee2b4",
   "metadata": {},
   "outputs": [
    {
     "data": {
      "text/html": [
       "<div>\n",
       "<style scoped>\n",
       "    .dataframe tbody tr th:only-of-type {\n",
       "        vertical-align: middle;\n",
       "    }\n",
       "\n",
       "    .dataframe tbody tr th {\n",
       "        vertical-align: top;\n",
       "    }\n",
       "\n",
       "    .dataframe thead th {\n",
       "        text-align: right;\n",
       "    }\n",
       "</style>\n",
       "<table border=\"1\" class=\"dataframe\">\n",
       "  <thead>\n",
       "    <tr style=\"text-align: right;\">\n",
       "      <th></th>\n",
       "      <th>income</th>\n",
       "    </tr>\n",
       "  </thead>\n",
       "  <tbody>\n",
       "    <tr>\n",
       "      <th>0</th>\n",
       "      <td>&gt;50K</td>\n",
       "    </tr>\n",
       "    <tr>\n",
       "      <th>1</th>\n",
       "      <td>&lt;=50K</td>\n",
       "    </tr>\n",
       "  </tbody>\n",
       "</table>\n",
       "</div>"
      ],
      "text/plain": [
       "   income\n",
       "0    >50K\n",
       "1   <=50K"
      ]
     },
     "execution_count": 13,
     "metadata": {},
     "output_type": "execute_result"
    }
   ],
   "source": [
    "df = df.withColumn('income', regexp_replace('income', '>50K.', '>50K')) \\\n",
    "       .withColumn('income', regexp_replace('income', '<=50K.', '<=50K'))\n",
    "\n",
    "df.select('income').distinct().limit(5).toPandas()"
   ]
  },
  {
   "cell_type": "markdown",
   "id": "bcbc1815-e910-4bc8-b0d6-11376f573c1b",
   "metadata": {},
   "source": [
    "### Subset of a Dataframe"
   ]
  },
  {
   "cell_type": "markdown",
   "id": "096a9fa8-c8a9-4ac9-9b4e-57a3ae0411b9",
   "metadata": {},
   "source": [
    "#### Select"
   ]
  },
  {
   "cell_type": "code",
   "execution_count": 14,
   "id": "aef1d517-ce5a-4e37-9dae-0ebd1cff9103",
   "metadata": {},
   "outputs": [
    {
     "data": {
      "text/html": [
       "<div>\n",
       "<style scoped>\n",
       "    .dataframe tbody tr th:only-of-type {\n",
       "        vertical-align: middle;\n",
       "    }\n",
       "\n",
       "    .dataframe tbody tr th {\n",
       "        vertical-align: top;\n",
       "    }\n",
       "\n",
       "    .dataframe thead th {\n",
       "        text-align: right;\n",
       "    }\n",
       "</style>\n",
       "<table border=\"1\" class=\"dataframe\">\n",
       "  <thead>\n",
       "    <tr style=\"text-align: right;\">\n",
       "      <th></th>\n",
       "      <th>age</th>\n",
       "      <th>income</th>\n",
       "    </tr>\n",
       "  </thead>\n",
       "  <tbody>\n",
       "    <tr>\n",
       "      <th>0</th>\n",
       "      <td>25</td>\n",
       "      <td>&lt;=50K</td>\n",
       "    </tr>\n",
       "    <tr>\n",
       "      <th>1</th>\n",
       "      <td>38</td>\n",
       "      <td>&lt;=50K</td>\n",
       "    </tr>\n",
       "    <tr>\n",
       "      <th>2</th>\n",
       "      <td>28</td>\n",
       "      <td>&gt;50K</td>\n",
       "    </tr>\n",
       "    <tr>\n",
       "      <th>3</th>\n",
       "      <td>44</td>\n",
       "      <td>&gt;50K</td>\n",
       "    </tr>\n",
       "    <tr>\n",
       "      <th>4</th>\n",
       "      <td>18</td>\n",
       "      <td>&lt;=50K</td>\n",
       "    </tr>\n",
       "  </tbody>\n",
       "</table>\n",
       "</div>"
      ],
      "text/plain": [
       "   age  income\n",
       "0   25   <=50K\n",
       "1   38   <=50K\n",
       "2   28    >50K\n",
       "3   44    >50K\n",
       "4   18   <=50K"
      ]
     },
     "execution_count": 14,
     "metadata": {},
     "output_type": "execute_result"
    }
   ],
   "source": [
    "df.select(['age', 'income']).limit(5).toPandas()"
   ]
  },
  {
   "cell_type": "markdown",
   "id": "292e1166-43aa-45f7-b578-62f9bedcab18",
   "metadata": {},
   "source": [
    "#### Filter"
   ]
  },
  {
   "cell_type": "code",
   "execution_count": 15,
   "id": "68670f5c-0829-4fa0-976b-182f9af22ff8",
   "metadata": {},
   "outputs": [
    {
     "data": {
      "text/html": [
       "<div>\n",
       "<style scoped>\n",
       "    .dataframe tbody tr th:only-of-type {\n",
       "        vertical-align: middle;\n",
       "    }\n",
       "\n",
       "    .dataframe tbody tr th {\n",
       "        vertical-align: top;\n",
       "    }\n",
       "\n",
       "    .dataframe thead th {\n",
       "        text-align: right;\n",
       "    }\n",
       "</style>\n",
       "<table border=\"1\" class=\"dataframe\">\n",
       "  <thead>\n",
       "    <tr style=\"text-align: right;\">\n",
       "      <th></th>\n",
       "      <th>age</th>\n",
       "      <th>workclass</th>\n",
       "      <th>fnlwgt</th>\n",
       "      <th>education</th>\n",
       "      <th>educational_num</th>\n",
       "      <th>marital_status</th>\n",
       "      <th>occupation</th>\n",
       "      <th>relationship</th>\n",
       "      <th>race</th>\n",
       "      <th>gender</th>\n",
       "      <th>capital_gain</th>\n",
       "      <th>capital_loss</th>\n",
       "      <th>hours_per_week</th>\n",
       "      <th>native_country</th>\n",
       "      <th>income</th>\n",
       "    </tr>\n",
       "  </thead>\n",
       "  <tbody>\n",
       "    <tr>\n",
       "      <th>0</th>\n",
       "      <td>38</td>\n",
       "      <td>Private</td>\n",
       "      <td>89814</td>\n",
       "      <td>HS-grad</td>\n",
       "      <td>9</td>\n",
       "      <td>Married-civ-spouse</td>\n",
       "      <td>Farming-fishing</td>\n",
       "      <td>Husband</td>\n",
       "      <td>White</td>\n",
       "      <td>Male</td>\n",
       "      <td>0</td>\n",
       "      <td>0</td>\n",
       "      <td>50</td>\n",
       "      <td>United-States</td>\n",
       "      <td>&lt;=50K</td>\n",
       "    </tr>\n",
       "    <tr>\n",
       "      <th>1</th>\n",
       "      <td>44</td>\n",
       "      <td>Private</td>\n",
       "      <td>160323</td>\n",
       "      <td>Some-college</td>\n",
       "      <td>10</td>\n",
       "      <td>Married-civ-spouse</td>\n",
       "      <td>Machine-op-inspct</td>\n",
       "      <td>Husband</td>\n",
       "      <td>Black</td>\n",
       "      <td>Male</td>\n",
       "      <td>7688</td>\n",
       "      <td>0</td>\n",
       "      <td>40</td>\n",
       "      <td>United-States</td>\n",
       "      <td>&gt;50K</td>\n",
       "    </tr>\n",
       "    <tr>\n",
       "      <th>2</th>\n",
       "      <td>34</td>\n",
       "      <td>Private</td>\n",
       "      <td>198693</td>\n",
       "      <td>10th</td>\n",
       "      <td>6</td>\n",
       "      <td>Never-married</td>\n",
       "      <td>Other-service</td>\n",
       "      <td>Not-in-family</td>\n",
       "      <td>White</td>\n",
       "      <td>Male</td>\n",
       "      <td>0</td>\n",
       "      <td>0</td>\n",
       "      <td>30</td>\n",
       "      <td>United-States</td>\n",
       "      <td>&lt;=50K</td>\n",
       "    </tr>\n",
       "    <tr>\n",
       "      <th>3</th>\n",
       "      <td>63</td>\n",
       "      <td>Self-emp-not-inc</td>\n",
       "      <td>104626</td>\n",
       "      <td>Prof-school</td>\n",
       "      <td>15</td>\n",
       "      <td>Married-civ-spouse</td>\n",
       "      <td>Prof-specialty</td>\n",
       "      <td>Husband</td>\n",
       "      <td>White</td>\n",
       "      <td>Male</td>\n",
       "      <td>3103</td>\n",
       "      <td>0</td>\n",
       "      <td>32</td>\n",
       "      <td>United-States</td>\n",
       "      <td>&gt;50K</td>\n",
       "    </tr>\n",
       "    <tr>\n",
       "      <th>4</th>\n",
       "      <td>55</td>\n",
       "      <td>Private</td>\n",
       "      <td>104996</td>\n",
       "      <td>7th-8th</td>\n",
       "      <td>4</td>\n",
       "      <td>Married-civ-spouse</td>\n",
       "      <td>Craft-repair</td>\n",
       "      <td>Husband</td>\n",
       "      <td>White</td>\n",
       "      <td>Male</td>\n",
       "      <td>0</td>\n",
       "      <td>0</td>\n",
       "      <td>10</td>\n",
       "      <td>United-States</td>\n",
       "      <td>&lt;=50K</td>\n",
       "    </tr>\n",
       "  </tbody>\n",
       "</table>\n",
       "</div>"
      ],
      "text/plain": [
       "   age          workclass  fnlwgt      education  educational_num  \\\n",
       "0   38            Private   89814        HS-grad                9   \n",
       "1   44            Private  160323   Some-college               10   \n",
       "2   34            Private  198693           10th                6   \n",
       "3   63   Self-emp-not-inc  104626    Prof-school               15   \n",
       "4   55            Private  104996        7th-8th                4   \n",
       "\n",
       "        marital_status          occupation    relationship    race gender  \\\n",
       "0   Married-civ-spouse     Farming-fishing         Husband   White   Male   \n",
       "1   Married-civ-spouse   Machine-op-inspct         Husband   Black   Male   \n",
       "2        Never-married       Other-service   Not-in-family   White   Male   \n",
       "3   Married-civ-spouse      Prof-specialty         Husband   White   Male   \n",
       "4   Married-civ-spouse        Craft-repair         Husband   White   Male   \n",
       "\n",
       "   capital_gain  capital_loss  hours_per_week  native_country  income  \n",
       "0             0             0              50   United-States   <=50K  \n",
       "1          7688             0              40   United-States    >50K  \n",
       "2             0             0              30   United-States   <=50K  \n",
       "3          3103             0              32   United-States    >50K  \n",
       "4             0             0              10   United-States   <=50K  "
      ]
     },
     "execution_count": 15,
     "metadata": {},
     "output_type": "execute_result"
    }
   ],
   "source": [
    "df.filter(df['age'] > 30).filter(df['fnlwgt'] > 50000).limit(5).toPandas()"
   ]
  },
  {
   "cell_type": "markdown",
   "id": "40cf23ec-982c-4093-a57d-83c3cc32e614",
   "metadata": {},
   "source": [
    "#### Where"
   ]
  },
  {
   "cell_type": "code",
   "execution_count": 16,
   "id": "335df85d-6340-44a7-b2fd-cd8f9e4310c6",
   "metadata": {},
   "outputs": [
    {
     "data": {
      "text/html": [
       "<div>\n",
       "<style scoped>\n",
       "    .dataframe tbody tr th:only-of-type {\n",
       "        vertical-align: middle;\n",
       "    }\n",
       "\n",
       "    .dataframe tbody tr th {\n",
       "        vertical-align: top;\n",
       "    }\n",
       "\n",
       "    .dataframe thead th {\n",
       "        text-align: right;\n",
       "    }\n",
       "</style>\n",
       "<table border=\"1\" class=\"dataframe\">\n",
       "  <thead>\n",
       "    <tr style=\"text-align: right;\">\n",
       "      <th></th>\n",
       "      <th>age</th>\n",
       "      <th>workclass</th>\n",
       "      <th>fnlwgt</th>\n",
       "      <th>education</th>\n",
       "      <th>educational_num</th>\n",
       "      <th>marital_status</th>\n",
       "      <th>occupation</th>\n",
       "      <th>relationship</th>\n",
       "      <th>race</th>\n",
       "      <th>gender</th>\n",
       "      <th>capital_gain</th>\n",
       "      <th>capital_loss</th>\n",
       "      <th>hours_per_week</th>\n",
       "      <th>native_country</th>\n",
       "      <th>income</th>\n",
       "    </tr>\n",
       "  </thead>\n",
       "  <tbody>\n",
       "    <tr>\n",
       "      <th>0</th>\n",
       "      <td>38</td>\n",
       "      <td>Private</td>\n",
       "      <td>89814</td>\n",
       "      <td>HS-grad</td>\n",
       "      <td>9</td>\n",
       "      <td>Married-civ-spouse</td>\n",
       "      <td>Farming-fishing</td>\n",
       "      <td>Husband</td>\n",
       "      <td>White</td>\n",
       "      <td>Male</td>\n",
       "      <td>0</td>\n",
       "      <td>0</td>\n",
       "      <td>50</td>\n",
       "      <td>United-States</td>\n",
       "      <td>&lt;=50K</td>\n",
       "    </tr>\n",
       "    <tr>\n",
       "      <th>1</th>\n",
       "      <td>44</td>\n",
       "      <td>Private</td>\n",
       "      <td>160323</td>\n",
       "      <td>Some-college</td>\n",
       "      <td>10</td>\n",
       "      <td>Married-civ-spouse</td>\n",
       "      <td>Machine-op-inspct</td>\n",
       "      <td>Husband</td>\n",
       "      <td>Black</td>\n",
       "      <td>Male</td>\n",
       "      <td>7688</td>\n",
       "      <td>0</td>\n",
       "      <td>40</td>\n",
       "      <td>United-States</td>\n",
       "      <td>&gt;50K</td>\n",
       "    </tr>\n",
       "    <tr>\n",
       "      <th>2</th>\n",
       "      <td>34</td>\n",
       "      <td>Private</td>\n",
       "      <td>198693</td>\n",
       "      <td>10th</td>\n",
       "      <td>6</td>\n",
       "      <td>Never-married</td>\n",
       "      <td>Other-service</td>\n",
       "      <td>Not-in-family</td>\n",
       "      <td>White</td>\n",
       "      <td>Male</td>\n",
       "      <td>0</td>\n",
       "      <td>0</td>\n",
       "      <td>30</td>\n",
       "      <td>United-States</td>\n",
       "      <td>&lt;=50K</td>\n",
       "    </tr>\n",
       "    <tr>\n",
       "      <th>3</th>\n",
       "      <td>63</td>\n",
       "      <td>Self-emp-not-inc</td>\n",
       "      <td>104626</td>\n",
       "      <td>Prof-school</td>\n",
       "      <td>15</td>\n",
       "      <td>Married-civ-spouse</td>\n",
       "      <td>Prof-specialty</td>\n",
       "      <td>Husband</td>\n",
       "      <td>White</td>\n",
       "      <td>Male</td>\n",
       "      <td>3103</td>\n",
       "      <td>0</td>\n",
       "      <td>32</td>\n",
       "      <td>United-States</td>\n",
       "      <td>&gt;50K</td>\n",
       "    </tr>\n",
       "    <tr>\n",
       "      <th>4</th>\n",
       "      <td>55</td>\n",
       "      <td>Private</td>\n",
       "      <td>104996</td>\n",
       "      <td>7th-8th</td>\n",
       "      <td>4</td>\n",
       "      <td>Married-civ-spouse</td>\n",
       "      <td>Craft-repair</td>\n",
       "      <td>Husband</td>\n",
       "      <td>White</td>\n",
       "      <td>Male</td>\n",
       "      <td>0</td>\n",
       "      <td>0</td>\n",
       "      <td>10</td>\n",
       "      <td>United-States</td>\n",
       "      <td>&lt;=50K</td>\n",
       "    </tr>\n",
       "  </tbody>\n",
       "</table>\n",
       "</div>"
      ],
      "text/plain": [
       "   age          workclass  fnlwgt      education  educational_num  \\\n",
       "0   38            Private   89814        HS-grad                9   \n",
       "1   44            Private  160323   Some-college               10   \n",
       "2   34            Private  198693           10th                6   \n",
       "3   63   Self-emp-not-inc  104626    Prof-school               15   \n",
       "4   55            Private  104996        7th-8th                4   \n",
       "\n",
       "        marital_status          occupation    relationship    race gender  \\\n",
       "0   Married-civ-spouse     Farming-fishing         Husband   White   Male   \n",
       "1   Married-civ-spouse   Machine-op-inspct         Husband   Black   Male   \n",
       "2        Never-married       Other-service   Not-in-family   White   Male   \n",
       "3   Married-civ-spouse      Prof-specialty         Husband   White   Male   \n",
       "4   Married-civ-spouse        Craft-repair         Husband   White   Male   \n",
       "\n",
       "   capital_gain  capital_loss  hours_per_week  native_country  income  \n",
       "0             0             0              50   United-States   <=50K  \n",
       "1          7688             0              40   United-States    >50K  \n",
       "2             0             0              30   United-States   <=50K  \n",
       "3          3103             0              32   United-States    >50K  \n",
       "4             0             0              10   United-States   <=50K  "
      ]
     },
     "execution_count": 16,
     "metadata": {},
     "output_type": "execute_result"
    }
   ],
   "source": [
    "df.where((df['age'] > 30) & (df['fnlwgt'] > 50000)).limit(5).toPandas()"
   ]
  },
  {
   "cell_type": "markdown",
   "id": "01b85ae0-7f83-4f9f-a06e-ebab8ea07b06",
   "metadata": {},
   "source": [
    "### Aggregations"
   ]
  },
  {
   "cell_type": "markdown",
   "id": "baeb4dcd-ed57-4e54-b37a-108786f30cab",
   "metadata": {
    "tags": []
   },
   "source": [
    "#### Mean"
   ]
  },
  {
   "cell_type": "code",
   "execution_count": 17,
   "id": "e0a2823c-cba5-4374-86a3-f3351c54e112",
   "metadata": {},
   "outputs": [
    {
     "data": {
      "text/html": [
       "<div>\n",
       "<style scoped>\n",
       "    .dataframe tbody tr th:only-of-type {\n",
       "        vertical-align: middle;\n",
       "    }\n",
       "\n",
       "    .dataframe tbody tr th {\n",
       "        vertical-align: top;\n",
       "    }\n",
       "\n",
       "    .dataframe thead th {\n",
       "        text-align: right;\n",
       "    }\n",
       "</style>\n",
       "<table border=\"1\" class=\"dataframe\">\n",
       "  <thead>\n",
       "    <tr style=\"text-align: right;\">\n",
       "      <th></th>\n",
       "      <th>income</th>\n",
       "      <th>avg(age)</th>\n",
       "    </tr>\n",
       "  </thead>\n",
       "  <tbody>\n",
       "    <tr>\n",
       "      <th>0</th>\n",
       "      <td>&gt;50K</td>\n",
       "      <td>44.275178</td>\n",
       "    </tr>\n",
       "    <tr>\n",
       "      <th>1</th>\n",
       "      <td>&lt;=50K</td>\n",
       "      <td>36.872184</td>\n",
       "    </tr>\n",
       "  </tbody>\n",
       "</table>\n",
       "</div>"
      ],
      "text/plain": [
       "   income   avg(age)\n",
       "0    >50K  44.275178\n",
       "1   <=50K  36.872184"
      ]
     },
     "execution_count": 17,
     "metadata": {},
     "output_type": "execute_result"
    }
   ],
   "source": [
    "df.groupBy('income').agg({'age':'mean'}).limit(5).toPandas()"
   ]
  },
  {
   "cell_type": "markdown",
   "id": "0661532c-cd58-4655-bd18-36047302f8cb",
   "metadata": {},
   "source": [
    "#### Sum"
   ]
  },
  {
   "cell_type": "code",
   "execution_count": 18,
   "id": "827bf76b-9ce2-41ab-ab95-625ec6f2f68e",
   "metadata": {},
   "outputs": [
    {
     "data": {
      "text/html": [
       "<div>\n",
       "<style scoped>\n",
       "    .dataframe tbody tr th:only-of-type {\n",
       "        vertical-align: middle;\n",
       "    }\n",
       "\n",
       "    .dataframe tbody tr th {\n",
       "        vertical-align: top;\n",
       "    }\n",
       "\n",
       "    .dataframe thead th {\n",
       "        text-align: right;\n",
       "    }\n",
       "</style>\n",
       "<table border=\"1\" class=\"dataframe\">\n",
       "  <thead>\n",
       "    <tr style=\"text-align: right;\">\n",
       "      <th></th>\n",
       "      <th>income</th>\n",
       "      <th>sum(age)</th>\n",
       "    </tr>\n",
       "  </thead>\n",
       "  <tbody>\n",
       "    <tr>\n",
       "      <th>0</th>\n",
       "      <td>&gt;50K</td>\n",
       "      <td>517444</td>\n",
       "    </tr>\n",
       "    <tr>\n",
       "      <th>1</th>\n",
       "      <td>&lt;=50K</td>\n",
       "      <td>1369986</td>\n",
       "    </tr>\n",
       "  </tbody>\n",
       "</table>\n",
       "</div>"
      ],
      "text/plain": [
       "   income  sum(age)\n",
       "0    >50K    517444\n",
       "1   <=50K   1369986"
      ]
     },
     "execution_count": 18,
     "metadata": {},
     "output_type": "execute_result"
    }
   ],
   "source": [
    "df.groupBy('income').agg({'age':'sum'}).limit(5).toPandas()"
   ]
  },
  {
   "cell_type": "markdown",
   "id": "7f35f6c5-0cc0-4c91-b49d-c9bf5706de73",
   "metadata": {},
   "source": [
    "#### Max"
   ]
  },
  {
   "cell_type": "code",
   "execution_count": 19,
   "id": "7edb03e0-8eb9-419d-be40-cd603550566b",
   "metadata": {},
   "outputs": [
    {
     "data": {
      "text/html": [
       "<div>\n",
       "<style scoped>\n",
       "    .dataframe tbody tr th:only-of-type {\n",
       "        vertical-align: middle;\n",
       "    }\n",
       "\n",
       "    .dataframe tbody tr th {\n",
       "        vertical-align: top;\n",
       "    }\n",
       "\n",
       "    .dataframe thead th {\n",
       "        text-align: right;\n",
       "    }\n",
       "</style>\n",
       "<table border=\"1\" class=\"dataframe\">\n",
       "  <thead>\n",
       "    <tr style=\"text-align: right;\">\n",
       "      <th></th>\n",
       "      <th>income</th>\n",
       "      <th>max(age)</th>\n",
       "    </tr>\n",
       "  </thead>\n",
       "  <tbody>\n",
       "    <tr>\n",
       "      <th>0</th>\n",
       "      <td>&gt;50K</td>\n",
       "      <td>90</td>\n",
       "    </tr>\n",
       "    <tr>\n",
       "      <th>1</th>\n",
       "      <td>&lt;=50K</td>\n",
       "      <td>90</td>\n",
       "    </tr>\n",
       "  </tbody>\n",
       "</table>\n",
       "</div>"
      ],
      "text/plain": [
       "   income  max(age)\n",
       "0    >50K        90\n",
       "1   <=50K        90"
      ]
     },
     "execution_count": 19,
     "metadata": {},
     "output_type": "execute_result"
    }
   ],
   "source": [
    "df.groupBy('income').agg({'age':'max'}).limit(5).toPandas()"
   ]
  },
  {
   "cell_type": "markdown",
   "id": "1c9e2932-c531-4428-9088-baf77b5070bb",
   "metadata": {},
   "source": [
    "#### Min"
   ]
  },
  {
   "cell_type": "code",
   "execution_count": 20,
   "id": "3ffe67aa-dda7-4941-8cec-75da068560fe",
   "metadata": {},
   "outputs": [
    {
     "data": {
      "text/html": [
       "<div>\n",
       "<style scoped>\n",
       "    .dataframe tbody tr th:only-of-type {\n",
       "        vertical-align: middle;\n",
       "    }\n",
       "\n",
       "    .dataframe tbody tr th {\n",
       "        vertical-align: top;\n",
       "    }\n",
       "\n",
       "    .dataframe thead th {\n",
       "        text-align: right;\n",
       "    }\n",
       "</style>\n",
       "<table border=\"1\" class=\"dataframe\">\n",
       "  <thead>\n",
       "    <tr style=\"text-align: right;\">\n",
       "      <th></th>\n",
       "      <th>income</th>\n",
       "      <th>min(age)</th>\n",
       "    </tr>\n",
       "  </thead>\n",
       "  <tbody>\n",
       "    <tr>\n",
       "      <th>0</th>\n",
       "      <td>&gt;50K</td>\n",
       "      <td>19</td>\n",
       "    </tr>\n",
       "    <tr>\n",
       "      <th>1</th>\n",
       "      <td>&lt;=50K</td>\n",
       "      <td>17</td>\n",
       "    </tr>\n",
       "  </tbody>\n",
       "</table>\n",
       "</div>"
      ],
      "text/plain": [
       "   income  min(age)\n",
       "0    >50K        19\n",
       "1   <=50K        17"
      ]
     },
     "execution_count": 20,
     "metadata": {},
     "output_type": "execute_result"
    }
   ],
   "source": [
    "df.groupBy('income').agg({'age':'min'}).limit(5).toPandas()"
   ]
  },
  {
   "cell_type": "markdown",
   "id": "bc968537-4f7f-4a01-a960-a458a79e6fa3",
   "metadata": {},
   "source": [
    "### User-Defined Functions (UDFs)"
   ]
  },
  {
   "cell_type": "code",
   "execution_count": 21,
   "id": "ef663c06-8902-4e66-812d-7c09e8851728",
   "metadata": {},
   "outputs": [],
   "source": [
    "from pyspark.sql.functions import udf\n",
    "from pyspark.sql.types import StringType"
   ]
  },
  {
   "cell_type": "code",
   "execution_count": 22,
   "id": "f77ffa08-ed99-4476-8273-9cb49efd3833",
   "metadata": {},
   "outputs": [],
   "source": [
    "def age_category(age):\n",
    "    if age < 40 & age > 0:\n",
    "        return \"Young Adults\"\n",
    "    elif age < 60 & age >= 40:\n",
    "        return \"Middle-aged Adults\"\n",
    "    else:\n",
    "        return \"Old Adults\""
   ]
  },
  {
   "cell_type": "code",
   "execution_count": 23,
   "id": "ad896995-d07e-4a00-88bc-68f57f720785",
   "metadata": {},
   "outputs": [
    {
     "data": {
      "text/html": [
       "<div>\n",
       "<style scoped>\n",
       "    .dataframe tbody tr th:only-of-type {\n",
       "        vertical-align: middle;\n",
       "    }\n",
       "\n",
       "    .dataframe tbody tr th {\n",
       "        vertical-align: top;\n",
       "    }\n",
       "\n",
       "    .dataframe thead th {\n",
       "        text-align: right;\n",
       "    }\n",
       "</style>\n",
       "<table border=\"1\" class=\"dataframe\">\n",
       "  <thead>\n",
       "    <tr style=\"text-align: right;\">\n",
       "      <th></th>\n",
       "      <th>age</th>\n",
       "      <th>age_category</th>\n",
       "    </tr>\n",
       "  </thead>\n",
       "  <tbody>\n",
       "    <tr>\n",
       "      <th>0</th>\n",
       "      <td>25</td>\n",
       "      <td>Old Adults</td>\n",
       "    </tr>\n",
       "    <tr>\n",
       "      <th>1</th>\n",
       "      <td>38</td>\n",
       "      <td>Old Adults</td>\n",
       "    </tr>\n",
       "    <tr>\n",
       "      <th>2</th>\n",
       "      <td>28</td>\n",
       "      <td>Old Adults</td>\n",
       "    </tr>\n",
       "    <tr>\n",
       "      <th>3</th>\n",
       "      <td>44</td>\n",
       "      <td>Old Adults</td>\n",
       "    </tr>\n",
       "    <tr>\n",
       "      <th>4</th>\n",
       "      <td>18</td>\n",
       "      <td>Old Adults</td>\n",
       "    </tr>\n",
       "    <tr>\n",
       "      <th>5</th>\n",
       "      <td>34</td>\n",
       "      <td>Old Adults</td>\n",
       "    </tr>\n",
       "    <tr>\n",
       "      <th>6</th>\n",
       "      <td>29</td>\n",
       "      <td>Old Adults</td>\n",
       "    </tr>\n",
       "    <tr>\n",
       "      <th>7</th>\n",
       "      <td>63</td>\n",
       "      <td>Old Adults</td>\n",
       "    </tr>\n",
       "    <tr>\n",
       "      <th>8</th>\n",
       "      <td>24</td>\n",
       "      <td>Old Adults</td>\n",
       "    </tr>\n",
       "    <tr>\n",
       "      <th>9</th>\n",
       "      <td>55</td>\n",
       "      <td>Old Adults</td>\n",
       "    </tr>\n",
       "  </tbody>\n",
       "</table>\n",
       "</div>"
      ],
      "text/plain": [
       "   age age_category\n",
       "0   25   Old Adults\n",
       "1   38   Old Adults\n",
       "2   28   Old Adults\n",
       "3   44   Old Adults\n",
       "4   18   Old Adults\n",
       "5   34   Old Adults\n",
       "6   29   Old Adults\n",
       "7   63   Old Adults\n",
       "8   24   Old Adults\n",
       "9   55   Old Adults"
      ]
     },
     "execution_count": 23,
     "metadata": {},
     "output_type": "execute_result"
    }
   ],
   "source": [
    "age_udf = udf(age_category, StringType())\n",
    "df      = df.withColumn('age_category', age_udf(df['age']))\n",
    "\n",
    "df.select('age', 'age_category').limit(10).toPandas()"
   ]
  },
  {
   "cell_type": "markdown",
   "id": "00609328-1b30-421f-bd4b-3c3a7f7f0559",
   "metadata": {},
   "source": [
    "### Data Cleaning"
   ]
  },
  {
   "cell_type": "markdown",
   "id": "e53f2b43",
   "metadata": {
    "tags": []
   },
   "source": [
    "#### Null Values"
   ]
  },
  {
   "cell_type": "code",
   "execution_count": 24,
   "id": "13702a15",
   "metadata": {},
   "outputs": [],
   "source": [
    "num_vars = [\"age\", \"fnlwgt\", \"educational_num\", \"capital_gain\", \"capital_loss\", \"hours_per_week\"]\n",
    "\n",
    "cat_vars = [\"workclass\", \"education\", \"marital_status\", \"occupation\", \"relationship\", \"race\", \"gender\", \"native_country\", \"income\"]"
   ]
  },
  {
   "cell_type": "code",
   "execution_count": 25,
   "id": "31f9724f",
   "metadata": {},
   "outputs": [
    {
     "data": {
      "text/plain": [
       "{'age': 0,\n",
       " 'fnlwgt': 0,\n",
       " 'educational_num': 0,\n",
       " 'capital_gain': 0,\n",
       " 'capital_loss': 0,\n",
       " 'hours_per_week': 0,\n",
       " 'workclass': 0,\n",
       " 'education': 0,\n",
       " 'marital_status': 0,\n",
       " 'occupation': 0,\n",
       " 'relationship': 0,\n",
       " 'race': 0,\n",
       " 'gender': 0,\n",
       " 'native_country': 0,\n",
       " 'income': 0}"
      ]
     },
     "execution_count": 25,
     "metadata": {},
     "output_type": "execute_result"
    }
   ],
   "source": [
    "def countNull(df, var):\n",
    "    return df.where(df[var].isNull()).count()\n",
    "\n",
    "all_cols = num_vars + cat_vars\n",
    "{var: countNull(df, var) for var in all_cols}"
   ]
  },
  {
   "cell_type": "markdown",
   "id": "170e4190",
   "metadata": {
    "tags": []
   },
   "source": [
    "## Data Transformation"
   ]
  },
  {
   "cell_type": "code",
   "execution_count": 26,
   "id": "5ec01713-3311-4db8-a181-13cad80ad3c2",
   "metadata": {
    "tags": []
   },
   "outputs": [],
   "source": [
    "from pyspark.ml.feature import OneHotEncoder, StringIndexer, VectorAssembler"
   ]
  },
  {
   "cell_type": "code",
   "execution_count": 27,
   "id": "8afb69f6-bfad-49c2-84c4-04c112c7bb28",
   "metadata": {},
   "outputs": [],
   "source": [
    "cat_indexers = [\"workclass_idx\", \n",
    "                \"education_idx\", \n",
    "                \"marital_status_idx\", \n",
    "                \"occupation_idx\", \n",
    "                \"relationship_idx\", \n",
    "                \"race_idx\",\n",
    "                \"gender_idx\",\n",
    "                \"native_country_idx\",\n",
    "                \"label\"]\n",
    "\n",
    "indexer = StringIndexer(inputCols = cat_vars, \n",
    "                        outputCols = cat_indexers).fit(df)\n",
    "\n",
    "df = indexer.transform(df)"
   ]
  },
  {
   "cell_type": "code",
   "execution_count": 28,
   "id": "5ed6d1b1-5212-4f9c-998f-11c869f00f3a",
   "metadata": {},
   "outputs": [],
   "source": [
    "cat_vecs = [\"workclass_vec\", \n",
    "           \"education_vec\", \n",
    "           \"marital_status_vec\", \n",
    "           \"occupation_vec\", \n",
    "           \"relationship_vec\", \n",
    "           \"race_vec\",\n",
    "           \"gender_vec\",\n",
    "           \"native_country_vec\",\n",
    "           \"income_vec\"]\n",
    "\n",
    "encoder = OneHotEncoder(inputCols = cat_indexers,\n",
    "                        outputCols = cat_vecs).fit(df)\n",
    "\n",
    "df = encoder.transform(df)"
   ]
  },
  {
   "cell_type": "code",
   "execution_count": 29,
   "id": "c40f3b02-a9f9-4c2f-9d16-4d7a7d964976",
   "metadata": {},
   "outputs": [
    {
     "name": "stdout",
     "output_type": "stream",
     "text": [
      "root\n",
      " |-- age: integer (nullable = true)\n",
      " |-- workclass: string (nullable = true)\n",
      " |-- fnlwgt: integer (nullable = true)\n",
      " |-- education: string (nullable = true)\n",
      " |-- educational_num: integer (nullable = true)\n",
      " |-- marital_status: string (nullable = true)\n",
      " |-- occupation: string (nullable = true)\n",
      " |-- relationship: string (nullable = true)\n",
      " |-- race: string (nullable = true)\n",
      " |-- gender: string (nullable = true)\n",
      " |-- capital_gain: integer (nullable = true)\n",
      " |-- capital_loss: integer (nullable = true)\n",
      " |-- hours_per_week: integer (nullable = true)\n",
      " |-- native_country: string (nullable = true)\n",
      " |-- income: string (nullable = true)\n",
      " |-- age_category: string (nullable = true)\n",
      " |-- workclass_idx: double (nullable = false)\n",
      " |-- education_idx: double (nullable = false)\n",
      " |-- marital_status_idx: double (nullable = false)\n",
      " |-- occupation_idx: double (nullable = false)\n",
      " |-- relationship_idx: double (nullable = false)\n",
      " |-- race_idx: double (nullable = false)\n",
      " |-- gender_idx: double (nullable = false)\n",
      " |-- native_country_idx: double (nullable = false)\n",
      " |-- label: double (nullable = false)\n",
      " |-- workclass_vec: vector (nullable = true)\n",
      " |-- education_vec: vector (nullable = true)\n",
      " |-- marital_status_vec: vector (nullable = true)\n",
      " |-- occupation_vec: vector (nullable = true)\n",
      " |-- relationship_vec: vector (nullable = true)\n",
      " |-- race_vec: vector (nullable = true)\n",
      " |-- gender_vec: vector (nullable = true)\n",
      " |-- native_country_vec: vector (nullable = true)\n",
      " |-- income_vec: vector (nullable = true)\n",
      "\n"
     ]
    }
   ],
   "source": [
    "df.printSchema()"
   ]
  },
  {
   "cell_type": "code",
   "execution_count": 30,
   "id": "383f1c2a-e2b4-4629-ae28-bd3338cae9f7",
   "metadata": {},
   "outputs": [],
   "source": [
    "assembler = VectorAssembler(inputCols = ['age',\n",
    "                                         'workclass_vec',\n",
    "                                         'fnlwgt',\n",
    "                                         'education_vec',\n",
    "                                         'educational_num',\n",
    "                                         'marital_status_vec',\n",
    "                                         'occupation_vec',\n",
    "                                         'relationship_vec',\n",
    "                                         'race_vec',\n",
    "                                         'gender_vec',\n",
    "                                         'capital_gain',\n",
    "                                         'capital_loss',\n",
    "                                         'hours_per_week',\n",
    "                                         'native_country_vec'], \n",
    "                             outputCol = \"features\")\n",
    "\n",
    "df = assembler.transform(df)"
   ]
  },
  {
   "cell_type": "code",
   "execution_count": 31,
   "id": "7bf5ec88-3161-4340-a6af-dc9d0c60bb18",
   "metadata": {},
   "outputs": [
    {
     "data": {
      "text/html": [
       "<div>\n",
       "<style scoped>\n",
       "    .dataframe tbody tr th:only-of-type {\n",
       "        vertical-align: middle;\n",
       "    }\n",
       "\n",
       "    .dataframe tbody tr th {\n",
       "        vertical-align: top;\n",
       "    }\n",
       "\n",
       "    .dataframe thead th {\n",
       "        text-align: right;\n",
       "    }\n",
       "</style>\n",
       "<table border=\"1\" class=\"dataframe\">\n",
       "  <thead>\n",
       "    <tr style=\"text-align: right;\">\n",
       "      <th></th>\n",
       "      <th>features</th>\n",
       "      <th>label</th>\n",
       "    </tr>\n",
       "  </thead>\n",
       "  <tbody>\n",
       "    <tr>\n",
       "      <th>0</th>\n",
       "      <td>(25.0, 1.0, 0.0, 0.0, 0.0, 0.0, 0.0, 0.0, 0.0,...</td>\n",
       "      <td>0.0</td>\n",
       "    </tr>\n",
       "    <tr>\n",
       "      <th>1</th>\n",
       "      <td>(38.0, 1.0, 0.0, 0.0, 0.0, 0.0, 0.0, 0.0, 0.0,...</td>\n",
       "      <td>0.0</td>\n",
       "    </tr>\n",
       "    <tr>\n",
       "      <th>2</th>\n",
       "      <td>(28.0, 0.0, 0.0, 1.0, 0.0, 0.0, 0.0, 0.0, 0.0,...</td>\n",
       "      <td>1.0</td>\n",
       "    </tr>\n",
       "    <tr>\n",
       "      <th>3</th>\n",
       "      <td>(44.0, 1.0, 0.0, 0.0, 0.0, 0.0, 0.0, 0.0, 0.0,...</td>\n",
       "      <td>1.0</td>\n",
       "    </tr>\n",
       "    <tr>\n",
       "      <th>4</th>\n",
       "      <td>(18.0, 0.0, 0.0, 0.0, 1.0, 0.0, 0.0, 0.0, 0.0,...</td>\n",
       "      <td>0.0</td>\n",
       "    </tr>\n",
       "    <tr>\n",
       "      <th>5</th>\n",
       "      <td>(34.0, 1.0, 0.0, 0.0, 0.0, 0.0, 0.0, 0.0, 0.0,...</td>\n",
       "      <td>0.0</td>\n",
       "    </tr>\n",
       "    <tr>\n",
       "      <th>6</th>\n",
       "      <td>(29.0, 0.0, 0.0, 0.0, 1.0, 0.0, 0.0, 0.0, 0.0,...</td>\n",
       "      <td>0.0</td>\n",
       "    </tr>\n",
       "    <tr>\n",
       "      <th>7</th>\n",
       "      <td>(63.0, 0.0, 1.0, 0.0, 0.0, 0.0, 0.0, 0.0, 0.0,...</td>\n",
       "      <td>1.0</td>\n",
       "    </tr>\n",
       "    <tr>\n",
       "      <th>8</th>\n",
       "      <td>(24.0, 1.0, 0.0, 0.0, 0.0, 0.0, 0.0, 0.0, 0.0,...</td>\n",
       "      <td>0.0</td>\n",
       "    </tr>\n",
       "    <tr>\n",
       "      <th>9</th>\n",
       "      <td>(55.0, 1.0, 0.0, 0.0, 0.0, 0.0, 0.0, 0.0, 0.0,...</td>\n",
       "      <td>0.0</td>\n",
       "    </tr>\n",
       "  </tbody>\n",
       "</table>\n",
       "</div>"
      ],
      "text/plain": [
       "                                            features  label\n",
       "0  (25.0, 1.0, 0.0, 0.0, 0.0, 0.0, 0.0, 0.0, 0.0,...    0.0\n",
       "1  (38.0, 1.0, 0.0, 0.0, 0.0, 0.0, 0.0, 0.0, 0.0,...    0.0\n",
       "2  (28.0, 0.0, 0.0, 1.0, 0.0, 0.0, 0.0, 0.0, 0.0,...    1.0\n",
       "3  (44.0, 1.0, 0.0, 0.0, 0.0, 0.0, 0.0, 0.0, 0.0,...    1.0\n",
       "4  (18.0, 0.0, 0.0, 0.0, 1.0, 0.0, 0.0, 0.0, 0.0,...    0.0\n",
       "5  (34.0, 1.0, 0.0, 0.0, 0.0, 0.0, 0.0, 0.0, 0.0,...    0.0\n",
       "6  (29.0, 0.0, 0.0, 0.0, 1.0, 0.0, 0.0, 0.0, 0.0,...    0.0\n",
       "7  (63.0, 0.0, 1.0, 0.0, 0.0, 0.0, 0.0, 0.0, 0.0,...    1.0\n",
       "8  (24.0, 1.0, 0.0, 0.0, 0.0, 0.0, 0.0, 0.0, 0.0,...    0.0\n",
       "9  (55.0, 1.0, 0.0, 0.0, 0.0, 0.0, 0.0, 0.0, 0.0,...    0.0"
      ]
     },
     "execution_count": 31,
     "metadata": {},
     "output_type": "execute_result"
    }
   ],
   "source": [
    "df.select(['features', 'label']).limit(10).toPandas()"
   ]
  },
  {
   "cell_type": "code",
   "execution_count": 32,
   "id": "32291b3f-7384-41db-b1b3-6820fca679b8",
   "metadata": {},
   "outputs": [
    {
     "data": {
      "text/html": [
       "<div>\n",
       "<style scoped>\n",
       "    .dataframe tbody tr th:only-of-type {\n",
       "        vertical-align: middle;\n",
       "    }\n",
       "\n",
       "    .dataframe tbody tr th {\n",
       "        vertical-align: top;\n",
       "    }\n",
       "\n",
       "    .dataframe thead th {\n",
       "        text-align: right;\n",
       "    }\n",
       "</style>\n",
       "<table border=\"1\" class=\"dataframe\">\n",
       "  <thead>\n",
       "    <tr style=\"text-align: right;\">\n",
       "      <th></th>\n",
       "      <th>features</th>\n",
       "      <th>label</th>\n",
       "    </tr>\n",
       "  </thead>\n",
       "  <tbody>\n",
       "    <tr>\n",
       "      <th>0</th>\n",
       "      <td>(25.0, 1.0, 0.0, 0.0, 0.0, 0.0, 0.0, 0.0, 0.0,...</td>\n",
       "      <td>0.0</td>\n",
       "    </tr>\n",
       "    <tr>\n",
       "      <th>1</th>\n",
       "      <td>(38.0, 1.0, 0.0, 0.0, 0.0, 0.0, 0.0, 0.0, 0.0,...</td>\n",
       "      <td>0.0</td>\n",
       "    </tr>\n",
       "    <tr>\n",
       "      <th>2</th>\n",
       "      <td>(28.0, 0.0, 0.0, 1.0, 0.0, 0.0, 0.0, 0.0, 0.0,...</td>\n",
       "      <td>1.0</td>\n",
       "    </tr>\n",
       "    <tr>\n",
       "      <th>3</th>\n",
       "      <td>(44.0, 1.0, 0.0, 0.0, 0.0, 0.0, 0.0, 0.0, 0.0,...</td>\n",
       "      <td>1.0</td>\n",
       "    </tr>\n",
       "    <tr>\n",
       "      <th>4</th>\n",
       "      <td>(18.0, 0.0, 0.0, 0.0, 1.0, 0.0, 0.0, 0.0, 0.0,...</td>\n",
       "      <td>0.0</td>\n",
       "    </tr>\n",
       "    <tr>\n",
       "      <th>5</th>\n",
       "      <td>(34.0, 1.0, 0.0, 0.0, 0.0, 0.0, 0.0, 0.0, 0.0,...</td>\n",
       "      <td>0.0</td>\n",
       "    </tr>\n",
       "    <tr>\n",
       "      <th>6</th>\n",
       "      <td>(29.0, 0.0, 0.0, 0.0, 1.0, 0.0, 0.0, 0.0, 0.0,...</td>\n",
       "      <td>0.0</td>\n",
       "    </tr>\n",
       "    <tr>\n",
       "      <th>7</th>\n",
       "      <td>(63.0, 0.0, 1.0, 0.0, 0.0, 0.0, 0.0, 0.0, 0.0,...</td>\n",
       "      <td>1.0</td>\n",
       "    </tr>\n",
       "    <tr>\n",
       "      <th>8</th>\n",
       "      <td>(24.0, 1.0, 0.0, 0.0, 0.0, 0.0, 0.0, 0.0, 0.0,...</td>\n",
       "      <td>0.0</td>\n",
       "    </tr>\n",
       "    <tr>\n",
       "      <th>9</th>\n",
       "      <td>(55.0, 1.0, 0.0, 0.0, 0.0, 0.0, 0.0, 0.0, 0.0,...</td>\n",
       "      <td>0.0</td>\n",
       "    </tr>\n",
       "  </tbody>\n",
       "</table>\n",
       "</div>"
      ],
      "text/plain": [
       "                                            features  label\n",
       "0  (25.0, 1.0, 0.0, 0.0, 0.0, 0.0, 0.0, 0.0, 0.0,...    0.0\n",
       "1  (38.0, 1.0, 0.0, 0.0, 0.0, 0.0, 0.0, 0.0, 0.0,...    0.0\n",
       "2  (28.0, 0.0, 0.0, 1.0, 0.0, 0.0, 0.0, 0.0, 0.0,...    1.0\n",
       "3  (44.0, 1.0, 0.0, 0.0, 0.0, 0.0, 0.0, 0.0, 0.0,...    1.0\n",
       "4  (18.0, 0.0, 0.0, 0.0, 1.0, 0.0, 0.0, 0.0, 0.0,...    0.0\n",
       "5  (34.0, 1.0, 0.0, 0.0, 0.0, 0.0, 0.0, 0.0, 0.0,...    0.0\n",
       "6  (29.0, 0.0, 0.0, 0.0, 1.0, 0.0, 0.0, 0.0, 0.0,...    0.0\n",
       "7  (63.0, 0.0, 1.0, 0.0, 0.0, 0.0, 0.0, 0.0, 0.0,...    1.0\n",
       "8  (24.0, 1.0, 0.0, 0.0, 0.0, 0.0, 0.0, 0.0, 0.0,...    0.0\n",
       "9  (55.0, 1.0, 0.0, 0.0, 0.0, 0.0, 0.0, 0.0, 0.0,...    0.0"
      ]
     },
     "execution_count": 32,
     "metadata": {},
     "output_type": "execute_result"
    }
   ],
   "source": [
    "model_df = df.select(['features', 'label'])\n",
    "model_df.limit(10).toPandas()"
   ]
  },
  {
   "cell_type": "markdown",
   "id": "b406e4d3",
   "metadata": {},
   "source": [
    "## Splitting the Dataset"
   ]
  },
  {
   "cell_type": "code",
   "execution_count": 33,
   "id": "fed15c39",
   "metadata": {},
   "outputs": [
    {
     "name": "stdout",
     "output_type": "stream",
     "text": [
      "Size of train Dataset : 34218\n",
      "Size of test Dataset : 14624\n"
     ]
    }
   ],
   "source": [
    "(test, train) = model_df.randomSplit([0.3, 0.7])\n",
    "\n",
    "print(f\"Size of train Dataset : {train.count()}\")\n",
    "print(f\"Size of test Dataset : {test.count()}\")"
   ]
  },
  {
   "cell_type": "markdown",
   "id": "43d391a0-def9-454e-b125-a3dd65b53519",
   "metadata": {
    "tags": []
   },
   "source": [
    "## Build and Train Model\n"
   ]
  },
  {
   "cell_type": "code",
   "execution_count": 34,
   "id": "870adabe-f32c-4d95-92ce-14037d8e568c",
   "metadata": {},
   "outputs": [],
   "source": [
    "from pyspark.ml.classification import RandomForestClassifier, GBTClassifier"
   ]
  },
  {
   "cell_type": "markdown",
   "id": "b1bc4087-6c0f-4a9b-8bb7-482b446e168c",
   "metadata": {},
   "source": [
    "### RandomForestClassifier"
   ]
  },
  {
   "cell_type": "code",
   "execution_count": 35,
   "id": "158a4cb2-af26-4645-a5c9-f518473b5f5a",
   "metadata": {},
   "outputs": [],
   "source": [
    "rf                   = RandomForestClassifier()\n",
    "rf_model             = rf.fit(train)\n",
    "rf_model_predictions = rf_model.transform(test)"
   ]
  },
  {
   "cell_type": "markdown",
   "id": "cb2e61f3-0ec7-4f18-b100-0600816f7810",
   "metadata": {},
   "source": [
    "### GBTClassifier"
   ]
  },
  {
   "cell_type": "code",
   "execution_count": 58,
   "id": "4d1f546c-1238-4969-a4b8-09cbdc10bdc7",
   "metadata": {},
   "outputs": [],
   "source": [
    "gbt                   = GBTClassifier()\n",
    "gbt_model             = gbt.fit(train)\n",
    "gbt_model_predictions = gbt_model.transform(test)"
   ]
  },
  {
   "cell_type": "markdown",
   "id": "83a23b20-1908-4af2-94d5-32007cf9307c",
   "metadata": {
    "tags": []
   },
   "source": [
    "## The best hyperparameters"
   ]
  },
  {
   "cell_type": "code",
   "execution_count": 59,
   "id": "56e03dd0-f0c3-462e-84c8-e1a5f5eca59f",
   "metadata": {},
   "outputs": [],
   "source": [
    "from pyspark.ml.tuning import ParamGridBuilder, CrossValidator\n",
    "from pyspark.ml.evaluation import BinaryClassificationEvaluator, MulticlassClassificationEvaluator"
   ]
  },
  {
   "cell_type": "markdown",
   "id": "26efbd61-cf7e-435b-8d02-20d015308174",
   "metadata": {},
   "source": [
    "### RandomForestClassifier"
   ]
  },
  {
   "cell_type": "code",
   "execution_count": 38,
   "id": "c2213847-a780-467e-8de1-c476f0dc947a",
   "metadata": {
    "tags": []
   },
   "outputs": [],
   "source": [
    "paramGrid_rf = (ParamGridBuilder()\n",
    "                .addGrid(rf.subsamplingRate,       [0.00001, 0.0001, 0.001, 0.1, 1.0])\n",
    "                .addGrid(rf.featureSubsetStrategy, ['auto', 'all', 'onethird', 'sqrt', 'log2'])\n",
    "                .addGrid(rf.numTrees,              [5, 10, 15, 20, 25])\n",
    "                .build())"
   ]
  },
  {
   "cell_type": "code",
   "execution_count": 39,
   "id": "504b733b-6f7a-4eab-836b-1f5f4c69089b",
   "metadata": {},
   "outputs": [],
   "source": [
    "cv_rf = CrossValidator(estimator          = rf, \n",
    "                       estimatorParamMaps = paramGrid_rf,\n",
    "                       evaluator          = BinaryClassificationEvaluator(), \n",
    "                       numFolds           = 5)\n",
    "\n",
    "cv_rf_model = cv_rf.fit(train)"
   ]
  },
  {
   "cell_type": "markdown",
   "id": "81527189-cee0-4001-b623-b26e358aa14a",
   "metadata": {},
   "source": [
    "### GBTClassifier"
   ]
  },
  {
   "cell_type": "code",
   "execution_count": 60,
   "id": "017b73d5-e73e-4517-be40-f3420874955d",
   "metadata": {},
   "outputs": [],
   "source": [
    "paramGrid_gbt = (ParamGridBuilder()\n",
    "                .addGrid(gbt.subsamplingRate,       [1.0])\n",
    "                .addGrid(gbt.featureSubsetStrategy, ['all'])\n",
    "                .addGrid(gbt.maxIter ,              [5, 10, 15, 20, 25])\n",
    "                .build())"
   ]
  },
  {
   "cell_type": "code",
   "execution_count": 61,
   "id": "37e56b01-a6ee-43e1-beca-ef69e79cb9ce",
   "metadata": {},
   "outputs": [],
   "source": [
    "cv_gbt = CrossValidator(estimator          = gbt, \n",
    "                        estimatorParamMaps = paramGrid_gbt,\n",
    "                        evaluator          = BinaryClassificationEvaluator(), \n",
    "                        numFolds           = 5)\n",
    "\n",
    "cv_gbt_model = cv_gbt.fit(train)"
   ]
  },
  {
   "cell_type": "markdown",
   "id": "56cd04a3",
   "metadata": {},
   "source": [
    "## Evaluation on Test Data"
   ]
  },
  {
   "cell_type": "markdown",
   "id": "c2631eb8-fea0-4b14-8052-78ebd5a4bde2",
   "metadata": {},
   "source": [
    "### RandomForestClassifier"
   ]
  },
  {
   "cell_type": "code",
   "execution_count": 42,
   "id": "e34e5c10-f422-4971-858d-1be735e6d1fd",
   "metadata": {
    "tags": []
   },
   "outputs": [],
   "source": [
    "best_rf_model  = cv_rf_model.bestModel\n",
    "rf_predictions = best_rf_model.transform(test)"
   ]
  },
  {
   "cell_type": "markdown",
   "id": "8d550edd-8512-45c7-ada1-89dd530fd9a9",
   "metadata": {},
   "source": [
    "### GBTClassifier"
   ]
  },
  {
   "cell_type": "code",
   "execution_count": 62,
   "id": "3a2d2779-d937-4f70-a38c-d005f3cb8267",
   "metadata": {},
   "outputs": [],
   "source": [
    "best_gbt_model  = cv_gbt_model.bestModel\n",
    "gbt_predictions = best_gbt_model.transform(test)"
   ]
  },
  {
   "cell_type": "markdown",
   "id": "27756e0e",
   "metadata": {},
   "source": [
    "## Accuracy"
   ]
  },
  {
   "cell_type": "markdown",
   "id": "2dbb4d69-0d52-45fa-9050-56fb060e558a",
   "metadata": {},
   "source": [
    "### RandomForestClassifier"
   ]
  },
  {
   "cell_type": "code",
   "execution_count": 44,
   "id": "60a39790-a077-46b2-9792-a21e03a0a8d4",
   "metadata": {},
   "outputs": [
    {
     "name": "stdout",
     "output_type": "stream",
     "text": [
      "The accuracy of RF on test data is 84%\n"
     ]
    }
   ],
   "source": [
    "rf_accuracy = MulticlassClassificationEvaluator(labelCol   = 'label',\n",
    "                                                metricName = 'accuracy') \\\n",
    "                                                .evaluate(rf_predictions) \n",
    "    \n",
    "print('The accuracy of RF on test data is {0:.0%}'.format(rf_accuracy))"
   ]
  },
  {
   "cell_type": "markdown",
   "id": "6e9401ef-ed31-4046-8a08-a792ee809a17",
   "metadata": {},
   "source": [
    "### GBTClassifier"
   ]
  },
  {
   "cell_type": "code",
   "execution_count": 45,
   "id": "f3732361-b773-4342-9b44-b731d0f2618d",
   "metadata": {
    "tags": []
   },
   "outputs": [
    {
     "name": "stdout",
     "output_type": "stream",
     "text": [
      "The accuracy of GBT on test data is 86%\n"
     ]
    }
   ],
   "source": [
    "gbt_accuracy = MulticlassClassificationEvaluator(labelCol   = 'label',\n",
    "                                                 metricName = 'accuracy') \\\n",
    "                                                .evaluate(gbt_predictions) \n",
    "    \n",
    "print('The accuracy of GBT on test data is {0:.0%}'.format(gbt_accuracy))"
   ]
  },
  {
   "cell_type": "markdown",
   "id": "fe6550f4-8bbe-4d77-af05-11aa817a9e3e",
   "metadata": {},
   "source": [
    "## F1 score"
   ]
  },
  {
   "cell_type": "markdown",
   "id": "d4958757-2c33-4b1a-82b0-2398c9a6b6e8",
   "metadata": {},
   "source": [
    "### RandomForestClassifier"
   ]
  },
  {
   "cell_type": "code",
   "execution_count": 46,
   "id": "63fe2db7-ae5e-4419-b204-6337dea3654a",
   "metadata": {},
   "outputs": [
    {
     "name": "stdout",
     "output_type": "stream",
     "text": [
      "The accuracy of RF on test data is 83%\n"
     ]
    }
   ],
   "source": [
    "rf_f1 = MulticlassClassificationEvaluator(labelCol   = 'label',\n",
    "                                          metricName = 'f1') \\\n",
    "                                          .evaluate(rf_predictions) \n",
    "    \n",
    "print('The accuracy of RF on test data is {0:.0%}'.format(rf_f1))"
   ]
  },
  {
   "cell_type": "markdown",
   "id": "1b13c2b3-e652-49cf-b88b-ae840c055e13",
   "metadata": {},
   "source": [
    "### GBTClassifier"
   ]
  },
  {
   "cell_type": "code",
   "execution_count": 47,
   "id": "0e4d1cd4-3808-47a0-9247-d6ae09d52159",
   "metadata": {},
   "outputs": [
    {
     "name": "stdout",
     "output_type": "stream",
     "text": [
      "The accuracy of RF on test data is 85%\n"
     ]
    }
   ],
   "source": [
    "gbt_f1 = MulticlassClassificationEvaluator(labelCol   = 'label',\n",
    "                                           metricName = 'f1') \\\n",
    "                                           .evaluate(gbt_predictions) \n",
    "    \n",
    "print('The accuracy of RF on test data is {0:.0%}'.format(gbt_f1))"
   ]
  },
  {
   "cell_type": "markdown",
   "id": "2814f2d6",
   "metadata": {},
   "source": [
    "## Precision"
   ]
  },
  {
   "cell_type": "markdown",
   "id": "02ceb77c-1644-40f0-8d3b-cb767bce1c9f",
   "metadata": {},
   "source": [
    "### RandomForestClassifier"
   ]
  },
  {
   "cell_type": "code",
   "execution_count": 48,
   "id": "2630d8f8-6420-4114-84d8-05d590ffe2ae",
   "metadata": {},
   "outputs": [
    {
     "name": "stdout",
     "output_type": "stream",
     "text": [
      "The precision rate on test data is 83%\n"
     ]
    }
   ],
   "source": [
    "rf_precision = MulticlassClassificationEvaluator(labelCol   = 'label',\n",
    "                                                 metricName = 'weightedPrecision') \\\n",
    "                                                 .evaluate(rf_model_predictions)\n",
    "\n",
    "print('The precision rate on test data is {0:.0%}'.format(rf_precision))"
   ]
  },
  {
   "cell_type": "markdown",
   "id": "cd56f7ec-baf9-4d94-8d4a-47c30874b7d4",
   "metadata": {
    "tags": []
   },
   "source": [
    "### GBTClassifier"
   ]
  },
  {
   "cell_type": "code",
   "execution_count": 49,
   "id": "c7cbf65a-7537-4c34-a90f-c2768f109914",
   "metadata": {},
   "outputs": [
    {
     "name": "stdout",
     "output_type": "stream",
     "text": [
      "The precision rate on test data is 85%\n"
     ]
    }
   ],
   "source": [
    "gbt_precision = MulticlassClassificationEvaluator(labelCol   = 'label',\n",
    "                                                  metricName = 'weightedPrecision') \\\n",
    "                                                  .evaluate(gbt_model_predictions)\n",
    "\n",
    "print('The precision rate on test data is {0:.0%}'.format(gbt_precision))"
   ]
  },
  {
   "cell_type": "markdown",
   "id": "5b2d4b78",
   "metadata": {},
   "source": [
    "## AUC"
   ]
  },
  {
   "cell_type": "markdown",
   "id": "d16bd45d-96d1-4a26-b04d-a1c1397b27ff",
   "metadata": {},
   "source": [
    "### RandomForestClassifier"
   ]
  },
  {
   "cell_type": "code",
   "execution_count": 50,
   "id": "a0d06f18-b8c1-4b3f-8076-4020a12ea0cc",
   "metadata": {
    "tags": []
   },
   "outputs": [
    {
     "name": "stdout",
     "output_type": "stream",
     "text": [
      "The AUC on test data is 90%\n"
     ]
    }
   ],
   "source": [
    "rf_auc = BinaryClassificationEvaluator(labelCol = 'label').evaluate(rf_predictions)\n",
    "\n",
    "print('The AUC on test data is {0:.0%}'.format(rf_auc))"
   ]
  },
  {
   "cell_type": "markdown",
   "id": "228a0cda-ea71-4582-973d-6ff2c7ec670f",
   "metadata": {
    "tags": []
   },
   "source": [
    "### GBTClassifier"
   ]
  },
  {
   "cell_type": "code",
   "execution_count": 51,
   "id": "48807439",
   "metadata": {
    "tags": []
   },
   "outputs": [
    {
     "name": "stdout",
     "output_type": "stream",
     "text": [
      "The AUC on test data is 91%\n"
     ]
    }
   ],
   "source": [
    "gbt_auc = BinaryClassificationEvaluator(labelCol = 'label').evaluate(gbt_predictions)\n",
    "\n",
    "print('The AUC on test data is {0:.0%}'.format(gbt_auc))"
   ]
  },
  {
   "cell_type": "markdown",
   "id": "0aa675b9-0e29-4e30-864c-5411e182f818",
   "metadata": {},
   "source": [
    "## ROC"
   ]
  },
  {
   "cell_type": "markdown",
   "id": "64b333f4-207f-4c76-91d0-b66692e95e82",
   "metadata": {},
   "source": [
    "### RandomForestClassifier"
   ]
  },
  {
   "cell_type": "code",
   "execution_count": 65,
   "id": "266ac359-61bb-495e-ac08-984bee503663",
   "metadata": {},
   "outputs": [
    {
     "data": {
      "image/png": "[encoded data removed]",
      "text/plain": [
       "<Figure size 500x500 with 1 Axes>"
      ]
     },
     "metadata": {},
     "output_type": "display_data"
    }
   ],
   "source": [
    "plt.figure(figsize = (5, 5))\n",
    "plt.plot([0, 1], [0, 1], 'r--')\n",
    "plt.plot(best_rf_model.summary.roc.select('FPR').collect(),\n",
    "         best_rf_model.summary.roc.select('TPR').collect())\n",
    "\n",
    "plt.xlabel('FPR')\n",
    "plt.ylabel('TPR')\n",
    "plt.show()"
   ]
  }
 ],
 "metadata": {
  "kernelspec": {
   "display_name": "Python 3 (ipykernel)",
   "language": "python",
   "name": "python3"
  },
  "language_info": {
   "codemirror_mode": {
    "name": "ipython",
    "version": 3
   },
   "file_extension": ".py",
   "mimetype": "text/x-python",
   "name": "python",
   "nbconvert_exporter": "python",
   "pygments_lexer": "ipython3",
   "version": "3.9.13"
  },
  "toc-showcode": false,
  "toc-showtags": false
 },
 "nbformat": 4,
 "nbformat_minor": 5
}
